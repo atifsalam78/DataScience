{
 "cells": [
  {
   "cell_type": "code",
   "execution_count": null,
   "id": "ebc261be",
   "metadata": {},
   "outputs": [],
   "source": [
    "sales[\"COMPLETENAME\"] = pd.concat([sales[\"CONTACTFIRSTNAME\"].astype(str), sales[\"CONTACTLASTNAME\"]], axis=1).agg(' '.join, axis=1)\n",
    "high_cust_satis = sales.groupby(\"COMPLETENAME\")[\"PRODUCTCODE\"].value_counts().sort_values(ascending=False).head(10)\n",
    "high_cust_satis = high_cust_satis.reset_index(name=\"COUNTS\")\n",
    "\n",
    "plt.figure(figsize=(10, 6))\n",
    "sns.barplot(x=\"COUNTS\", y=\"COMPLETENAME\", hue=\"PRODUCTCODE\", data=high_cust_satis, palette=\"viridis\")\n",
    "plt.title(\"Product Highest Customer Satisfaction\")\n",
    "plt.xlabel(\"Count\")\n",
    "plt.ylabel(\"Customer Name\")\n",
    "plt.show()"
   ]
  }
 ],
 "metadata": {
  "kernelspec": {
   "display_name": "Python 3 (ipykernel)",
   "language": "python",
   "name": "python3"
  },
  "language_info": {
   "codemirror_mode": {
    "name": "ipython",
    "version": 3
   },
   "file_extension": ".py",
   "mimetype": "text/x-python",
   "name": "python",
   "nbconvert_exporter": "python",
   "pygments_lexer": "ipython3",
   "version": "3.9.13"
  }
 },
 "nbformat": 4,
 "nbformat_minor": 5
}
