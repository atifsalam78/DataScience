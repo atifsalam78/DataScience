{
 "cells": [
  {
   "cell_type": "code",
   "execution_count": 1,
   "id": "6f6bd3d3",
   "metadata": {},
   "outputs": [],
   "source": [
    "import numpy as np\n",
    "import pandas as pd\n",
    "import matplotlib.pyplot as plt"
   ]
  },
  {
   "cell_type": "code",
   "execution_count": 2,
   "id": "f6c691d7",
   "metadata": {},
   "outputs": [],
   "source": [
    "deaths = pd.read_csv(\"avg_deaths.csv\") # From 1 Jan 2020 Till 15th Dec 2020\n",
    "deaths.rename(columns = {\"New_deaths\": \"Per_Day_Deaths\"}, inplace=True)"
   ]
  },
  {
   "cell_type": "code",
   "execution_count": 3,
   "id": "230ebe31",
   "metadata": {},
   "outputs": [],
   "source": [
    "import calendar"
   ]
  },
  {
   "cell_type": "code",
   "execution_count": 4,
   "id": "925b0985",
   "metadata": {},
   "outputs": [],
   "source": [
    "deaths[\"No_of_Days\"] = 0"
   ]
  },
  {
   "cell_type": "code",
   "execution_count": 5,
   "id": "59d94907",
   "metadata": {},
   "outputs": [],
   "source": [
    "deaths[\"Year\"] = 2020"
   ]
  },
  {
   "cell_type": "code",
   "execution_count": 6,
   "id": "c0dd4e30",
   "metadata": {},
   "outputs": [
    {
     "data": {
      "text/html": [
       "<div>\n",
       "<style scoped>\n",
       "    .dataframe tbody tr th:only-of-type {\n",
       "        vertical-align: middle;\n",
       "    }\n",
       "\n",
       "    .dataframe tbody tr th {\n",
       "        vertical-align: top;\n",
       "    }\n",
       "\n",
       "    .dataframe thead th {\n",
       "        text-align: right;\n",
       "    }\n",
       "</style>\n",
       "<table border=\"1\" class=\"dataframe\">\n",
       "  <thead>\n",
       "    <tr style=\"text-align: right;\">\n",
       "      <th></th>\n",
       "      <th>Month</th>\n",
       "      <th>Per_Day_Deaths</th>\n",
       "      <th>No_of_Days</th>\n",
       "      <th>Year</th>\n",
       "    </tr>\n",
       "  </thead>\n",
       "  <tbody>\n",
       "    <tr>\n",
       "      <th>0</th>\n",
       "      <td>1</td>\n",
       "      <td>0</td>\n",
       "      <td>0</td>\n",
       "      <td>2020</td>\n",
       "    </tr>\n",
       "    <tr>\n",
       "      <th>1</th>\n",
       "      <td>2</td>\n",
       "      <td>0</td>\n",
       "      <td>0</td>\n",
       "      <td>2020</td>\n",
       "    </tr>\n",
       "    <tr>\n",
       "      <th>2</th>\n",
       "      <td>3</td>\n",
       "      <td>77</td>\n",
       "      <td>0</td>\n",
       "      <td>2020</td>\n",
       "    </tr>\n",
       "    <tr>\n",
       "      <th>3</th>\n",
       "      <td>4</td>\n",
       "      <td>1844</td>\n",
       "      <td>0</td>\n",
       "      <td>2020</td>\n",
       "    </tr>\n",
       "    <tr>\n",
       "      <th>4</th>\n",
       "      <td>5</td>\n",
       "      <td>1448</td>\n",
       "      <td>0</td>\n",
       "      <td>2020</td>\n",
       "    </tr>\n",
       "    <tr>\n",
       "      <th>5</th>\n",
       "      <td>6</td>\n",
       "      <td>785</td>\n",
       "      <td>0</td>\n",
       "      <td>2020</td>\n",
       "    </tr>\n",
       "    <tr>\n",
       "      <th>6</th>\n",
       "      <td>7</td>\n",
       "      <td>769</td>\n",
       "      <td>0</td>\n",
       "      <td>2020</td>\n",
       "    </tr>\n",
       "    <tr>\n",
       "      <th>7</th>\n",
       "      <td>8</td>\n",
       "      <td>1020</td>\n",
       "      <td>0</td>\n",
       "      <td>2020</td>\n",
       "    </tr>\n",
       "    <tr>\n",
       "      <th>8</th>\n",
       "      <td>9</td>\n",
       "      <td>739</td>\n",
       "      <td>0</td>\n",
       "      <td>2020</td>\n",
       "    </tr>\n",
       "    <tr>\n",
       "      <th>9</th>\n",
       "      <td>10</td>\n",
       "      <td>751</td>\n",
       "      <td>0</td>\n",
       "      <td>2020</td>\n",
       "    </tr>\n",
       "    <tr>\n",
       "      <th>10</th>\n",
       "      <td>11</td>\n",
       "      <td>1225</td>\n",
       "      <td>0</td>\n",
       "      <td>2020</td>\n",
       "    </tr>\n",
       "    <tr>\n",
       "      <th>11</th>\n",
       "      <td>12</td>\n",
       "      <td>2247</td>\n",
       "      <td>0</td>\n",
       "      <td>2020</td>\n",
       "    </tr>\n",
       "  </tbody>\n",
       "</table>\n",
       "</div>"
      ],
      "text/plain": [
       "    Month  Per_Day_Deaths  No_of_Days  Year\n",
       "0       1               0           0  2020\n",
       "1       2               0           0  2020\n",
       "2       3              77           0  2020\n",
       "3       4            1844           0  2020\n",
       "4       5            1448           0  2020\n",
       "5       6             785           0  2020\n",
       "6       7             769           0  2020\n",
       "7       8            1020           0  2020\n",
       "8       9             739           0  2020\n",
       "9      10             751           0  2020\n",
       "10     11            1225           0  2020\n",
       "11     12            2247           0  2020"
      ]
     },
     "execution_count": 6,
     "metadata": {},
     "output_type": "execute_result"
    }
   ],
   "source": [
    "deaths"
   ]
  },
  {
   "cell_type": "code",
   "execution_count": 7,
   "id": "25b3545a",
   "metadata": {},
   "outputs": [
    {
     "data": {
      "text/plain": [
       "(2, 31)"
      ]
     },
     "execution_count": 7,
     "metadata": {},
     "output_type": "execute_result"
    }
   ],
   "source": [
    "calendar.monthrange(2020, 1)"
   ]
  },
  {
   "cell_type": "code",
   "execution_count": 8,
   "id": "fe3a5fb5",
   "metadata": {},
   "outputs": [
    {
     "data": {
      "text/plain": [
       "29"
      ]
     },
     "execution_count": 8,
     "metadata": {},
     "output_type": "execute_result"
    }
   ],
   "source": [
    "def days(year, day):\n",
    "    _, num_days = calendar.monthrange(year, day)\n",
    "    return num_days\n",
    "\n",
    "days(2020, 2)"
   ]
  },
  {
   "cell_type": "code",
   "execution_count": 9,
   "id": "c3189678",
   "metadata": {},
   "outputs": [
    {
     "data": {
      "text/html": [
       "<div>\n",
       "<style scoped>\n",
       "    .dataframe tbody tr th:only-of-type {\n",
       "        vertical-align: middle;\n",
       "    }\n",
       "\n",
       "    .dataframe tbody tr th {\n",
       "        vertical-align: top;\n",
       "    }\n",
       "\n",
       "    .dataframe thead th {\n",
       "        text-align: right;\n",
       "    }\n",
       "</style>\n",
       "<table border=\"1\" class=\"dataframe\">\n",
       "  <thead>\n",
       "    <tr style=\"text-align: right;\">\n",
       "      <th></th>\n",
       "      <th>Month</th>\n",
       "      <th>Per_Day_Deaths</th>\n",
       "      <th>No_of_Days</th>\n",
       "      <th>Year</th>\n",
       "    </tr>\n",
       "  </thead>\n",
       "  <tbody>\n",
       "    <tr>\n",
       "      <th>0</th>\n",
       "      <td>1</td>\n",
       "      <td>0</td>\n",
       "      <td>0</td>\n",
       "      <td>2020</td>\n",
       "    </tr>\n",
       "    <tr>\n",
       "      <th>1</th>\n",
       "      <td>2</td>\n",
       "      <td>0</td>\n",
       "      <td>0</td>\n",
       "      <td>2020</td>\n",
       "    </tr>\n",
       "    <tr>\n",
       "      <th>2</th>\n",
       "      <td>3</td>\n",
       "      <td>77</td>\n",
       "      <td>0</td>\n",
       "      <td>2020</td>\n",
       "    </tr>\n",
       "    <tr>\n",
       "      <th>3</th>\n",
       "      <td>4</td>\n",
       "      <td>1844</td>\n",
       "      <td>0</td>\n",
       "      <td>2020</td>\n",
       "    </tr>\n",
       "    <tr>\n",
       "      <th>4</th>\n",
       "      <td>5</td>\n",
       "      <td>1448</td>\n",
       "      <td>0</td>\n",
       "      <td>2020</td>\n",
       "    </tr>\n",
       "    <tr>\n",
       "      <th>5</th>\n",
       "      <td>6</td>\n",
       "      <td>785</td>\n",
       "      <td>0</td>\n",
       "      <td>2020</td>\n",
       "    </tr>\n",
       "    <tr>\n",
       "      <th>6</th>\n",
       "      <td>7</td>\n",
       "      <td>769</td>\n",
       "      <td>0</td>\n",
       "      <td>2020</td>\n",
       "    </tr>\n",
       "    <tr>\n",
       "      <th>7</th>\n",
       "      <td>8</td>\n",
       "      <td>1020</td>\n",
       "      <td>0</td>\n",
       "      <td>2020</td>\n",
       "    </tr>\n",
       "    <tr>\n",
       "      <th>8</th>\n",
       "      <td>9</td>\n",
       "      <td>739</td>\n",
       "      <td>0</td>\n",
       "      <td>2020</td>\n",
       "    </tr>\n",
       "    <tr>\n",
       "      <th>9</th>\n",
       "      <td>10</td>\n",
       "      <td>751</td>\n",
       "      <td>0</td>\n",
       "      <td>2020</td>\n",
       "    </tr>\n",
       "    <tr>\n",
       "      <th>10</th>\n",
       "      <td>11</td>\n",
       "      <td>1225</td>\n",
       "      <td>0</td>\n",
       "      <td>2020</td>\n",
       "    </tr>\n",
       "    <tr>\n",
       "      <th>11</th>\n",
       "      <td>12</td>\n",
       "      <td>2247</td>\n",
       "      <td>0</td>\n",
       "      <td>2020</td>\n",
       "    </tr>\n",
       "  </tbody>\n",
       "</table>\n",
       "</div>"
      ],
      "text/plain": [
       "    Month  Per_Day_Deaths  No_of_Days  Year\n",
       "0       1               0           0  2020\n",
       "1       2               0           0  2020\n",
       "2       3              77           0  2020\n",
       "3       4            1844           0  2020\n",
       "4       5            1448           0  2020\n",
       "5       6             785           0  2020\n",
       "6       7             769           0  2020\n",
       "7       8            1020           0  2020\n",
       "8       9             739           0  2020\n",
       "9      10             751           0  2020\n",
       "10     11            1225           0  2020\n",
       "11     12            2247           0  2020"
      ]
     },
     "execution_count": 9,
     "metadata": {},
     "output_type": "execute_result"
    }
   ],
   "source": [
    "deaths"
   ]
  },
  {
   "cell_type": "code",
   "execution_count": 10,
   "id": "2bb0aa16",
   "metadata": {},
   "outputs": [],
   "source": [
    "days = (deaths[[\"Year\", \"Month\"]]).apply(lambda row: days(row[\"Year\"], row[\"Month\"]), axis=1)"
   ]
  },
  {
   "cell_type": "code",
   "execution_count": 11,
   "id": "0207cf6d",
   "metadata": {},
   "outputs": [
    {
     "data": {
      "text/plain": [
       "0     31\n",
       "1     29\n",
       "2     31\n",
       "3     30\n",
       "4     31\n",
       "5     30\n",
       "6     31\n",
       "7     31\n",
       "8     30\n",
       "9     31\n",
       "10    30\n",
       "11    31\n",
       "dtype: int32"
      ]
     },
     "execution_count": 11,
     "metadata": {},
     "output_type": "execute_result"
    }
   ],
   "source": [
    "days"
   ]
  },
  {
   "cell_type": "code",
   "execution_count": 12,
   "id": "bf367743",
   "metadata": {},
   "outputs": [],
   "source": [
    "deaths[\"No_of_Days\"] = days"
   ]
  },
  {
   "cell_type": "code",
   "execution_count": 13,
   "id": "e1adabdd",
   "metadata": {},
   "outputs": [],
   "source": [
    "deaths.loc[11, \"No_of_Days\"] = deaths.loc[11, \"No_of_Days\"] // 2 "
   ]
  },
  {
   "cell_type": "code",
   "execution_count": 14,
   "id": "67bbf905",
   "metadata": {},
   "outputs": [
    {
     "data": {
      "text/html": [
       "<div>\n",
       "<style scoped>\n",
       "    .dataframe tbody tr th:only-of-type {\n",
       "        vertical-align: middle;\n",
       "    }\n",
       "\n",
       "    .dataframe tbody tr th {\n",
       "        vertical-align: top;\n",
       "    }\n",
       "\n",
       "    .dataframe thead th {\n",
       "        text-align: right;\n",
       "    }\n",
       "</style>\n",
       "<table border=\"1\" class=\"dataframe\">\n",
       "  <thead>\n",
       "    <tr style=\"text-align: right;\">\n",
       "      <th></th>\n",
       "      <th>Month</th>\n",
       "      <th>Per_Day_Deaths</th>\n",
       "      <th>No_of_Days</th>\n",
       "      <th>Year</th>\n",
       "    </tr>\n",
       "  </thead>\n",
       "  <tbody>\n",
       "    <tr>\n",
       "      <th>0</th>\n",
       "      <td>1</td>\n",
       "      <td>0</td>\n",
       "      <td>31</td>\n",
       "      <td>2020</td>\n",
       "    </tr>\n",
       "    <tr>\n",
       "      <th>1</th>\n",
       "      <td>2</td>\n",
       "      <td>0</td>\n",
       "      <td>29</td>\n",
       "      <td>2020</td>\n",
       "    </tr>\n",
       "    <tr>\n",
       "      <th>2</th>\n",
       "      <td>3</td>\n",
       "      <td>77</td>\n",
       "      <td>31</td>\n",
       "      <td>2020</td>\n",
       "    </tr>\n",
       "    <tr>\n",
       "      <th>3</th>\n",
       "      <td>4</td>\n",
       "      <td>1844</td>\n",
       "      <td>30</td>\n",
       "      <td>2020</td>\n",
       "    </tr>\n",
       "    <tr>\n",
       "      <th>4</th>\n",
       "      <td>5</td>\n",
       "      <td>1448</td>\n",
       "      <td>31</td>\n",
       "      <td>2020</td>\n",
       "    </tr>\n",
       "    <tr>\n",
       "      <th>5</th>\n",
       "      <td>6</td>\n",
       "      <td>785</td>\n",
       "      <td>30</td>\n",
       "      <td>2020</td>\n",
       "    </tr>\n",
       "    <tr>\n",
       "      <th>6</th>\n",
       "      <td>7</td>\n",
       "      <td>769</td>\n",
       "      <td>31</td>\n",
       "      <td>2020</td>\n",
       "    </tr>\n",
       "    <tr>\n",
       "      <th>7</th>\n",
       "      <td>8</td>\n",
       "      <td>1020</td>\n",
       "      <td>31</td>\n",
       "      <td>2020</td>\n",
       "    </tr>\n",
       "    <tr>\n",
       "      <th>8</th>\n",
       "      <td>9</td>\n",
       "      <td>739</td>\n",
       "      <td>30</td>\n",
       "      <td>2020</td>\n",
       "    </tr>\n",
       "    <tr>\n",
       "      <th>9</th>\n",
       "      <td>10</td>\n",
       "      <td>751</td>\n",
       "      <td>31</td>\n",
       "      <td>2020</td>\n",
       "    </tr>\n",
       "    <tr>\n",
       "      <th>10</th>\n",
       "      <td>11</td>\n",
       "      <td>1225</td>\n",
       "      <td>30</td>\n",
       "      <td>2020</td>\n",
       "    </tr>\n",
       "    <tr>\n",
       "      <th>11</th>\n",
       "      <td>12</td>\n",
       "      <td>2247</td>\n",
       "      <td>15</td>\n",
       "      <td>2020</td>\n",
       "    </tr>\n",
       "  </tbody>\n",
       "</table>\n",
       "</div>"
      ],
      "text/plain": [
       "    Month  Per_Day_Deaths  No_of_Days  Year\n",
       "0       1               0          31  2020\n",
       "1       2               0          29  2020\n",
       "2       3              77          31  2020\n",
       "3       4            1844          30  2020\n",
       "4       5            1448          31  2020\n",
       "5       6             785          30  2020\n",
       "6       7             769          31  2020\n",
       "7       8            1020          31  2020\n",
       "8       9             739          30  2020\n",
       "9      10             751          31  2020\n",
       "10     11            1225          30  2020\n",
       "11     12            2247          15  2020"
      ]
     },
     "execution_count": 14,
     "metadata": {},
     "output_type": "execute_result"
    }
   ],
   "source": [
    "deaths"
   ]
  },
  {
   "cell_type": "code",
   "execution_count": 15,
   "id": "68212d03",
   "metadata": {},
   "outputs": [],
   "source": [
    "deaths[\"Monthly_Deaths\"] = deaths[\"Per_Day_Deaths\"].mul(deaths[\"No_of_Days\"])"
   ]
  },
  {
   "cell_type": "code",
   "execution_count": 16,
   "id": "99bc8e6e",
   "metadata": {},
   "outputs": [],
   "source": [
    "deaths = deaths[[\"Year\", \"Month\", \"No_of_Days\", \"Monthly_Deaths\", \"Per_Day_Deaths\"]]"
   ]
  },
  {
   "cell_type": "code",
   "execution_count": 22,
   "id": "28bc83e7",
   "metadata": {},
   "outputs": [
    {
     "name": "stderr",
     "output_type": "stream",
     "text": [
      "C:\\Users\\atif\\AppData\\Local\\Temp\\ipykernel_892\\2155794696.py:1: SettingWithCopyWarning: \n",
      "A value is trying to be set on a copy of a slice from a DataFrame.\n",
      "Try using .loc[row_indexer,col_indexer] = value instead\n",
      "\n",
      "See the caveats in the documentation: https://pandas.pydata.org/pandas-docs/stable/user_guide/indexing.html#returning-a-view-versus-a-copy\n",
      "  deaths[\"Cum_Deaths\"] = deaths[\"Monthly_Deaths\"].cumsum().copy()\n"
     ]
    }
   ],
   "source": [
    "deaths[\"Cum_Deaths\"] = deaths[\"Monthly_Deaths\"].cumsum()"
   ]
  },
  {
   "cell_type": "code",
   "execution_count": 18,
   "id": "827b8128",
   "metadata": {},
   "outputs": [
    {
     "data": {
      "text/html": [
       "<div>\n",
       "<style scoped>\n",
       "    .dataframe tbody tr th:only-of-type {\n",
       "        vertical-align: middle;\n",
       "    }\n",
       "\n",
       "    .dataframe tbody tr th {\n",
       "        vertical-align: top;\n",
       "    }\n",
       "\n",
       "    .dataframe thead th {\n",
       "        text-align: right;\n",
       "    }\n",
       "</style>\n",
       "<table border=\"1\" class=\"dataframe\">\n",
       "  <thead>\n",
       "    <tr style=\"text-align: right;\">\n",
       "      <th></th>\n",
       "      <th>Year</th>\n",
       "      <th>Month</th>\n",
       "      <th>No_of_Days</th>\n",
       "      <th>Monthly_Deaths</th>\n",
       "      <th>Per_Day_Deaths</th>\n",
       "      <th>Cum_Deaths</th>\n",
       "    </tr>\n",
       "  </thead>\n",
       "  <tbody>\n",
       "    <tr>\n",
       "      <th>0</th>\n",
       "      <td>2020</td>\n",
       "      <td>1</td>\n",
       "      <td>31</td>\n",
       "      <td>0</td>\n",
       "      <td>0</td>\n",
       "      <td>0</td>\n",
       "    </tr>\n",
       "    <tr>\n",
       "      <th>1</th>\n",
       "      <td>2020</td>\n",
       "      <td>2</td>\n",
       "      <td>29</td>\n",
       "      <td>0</td>\n",
       "      <td>0</td>\n",
       "      <td>0</td>\n",
       "    </tr>\n",
       "    <tr>\n",
       "      <th>2</th>\n",
       "      <td>2020</td>\n",
       "      <td>3</td>\n",
       "      <td>31</td>\n",
       "      <td>2387</td>\n",
       "      <td>77</td>\n",
       "      <td>2387</td>\n",
       "    </tr>\n",
       "    <tr>\n",
       "      <th>3</th>\n",
       "      <td>2020</td>\n",
       "      <td>4</td>\n",
       "      <td>30</td>\n",
       "      <td>55320</td>\n",
       "      <td>1844</td>\n",
       "      <td>57707</td>\n",
       "    </tr>\n",
       "    <tr>\n",
       "      <th>4</th>\n",
       "      <td>2020</td>\n",
       "      <td>5</td>\n",
       "      <td>31</td>\n",
       "      <td>44888</td>\n",
       "      <td>1448</td>\n",
       "      <td>102595</td>\n",
       "    </tr>\n",
       "    <tr>\n",
       "      <th>5</th>\n",
       "      <td>2020</td>\n",
       "      <td>6</td>\n",
       "      <td>30</td>\n",
       "      <td>23550</td>\n",
       "      <td>785</td>\n",
       "      <td>126145</td>\n",
       "    </tr>\n",
       "    <tr>\n",
       "      <th>6</th>\n",
       "      <td>2020</td>\n",
       "      <td>7</td>\n",
       "      <td>31</td>\n",
       "      <td>23839</td>\n",
       "      <td>769</td>\n",
       "      <td>149984</td>\n",
       "    </tr>\n",
       "    <tr>\n",
       "      <th>7</th>\n",
       "      <td>2020</td>\n",
       "      <td>8</td>\n",
       "      <td>31</td>\n",
       "      <td>31620</td>\n",
       "      <td>1020</td>\n",
       "      <td>181604</td>\n",
       "    </tr>\n",
       "    <tr>\n",
       "      <th>8</th>\n",
       "      <td>2020</td>\n",
       "      <td>9</td>\n",
       "      <td>30</td>\n",
       "      <td>22170</td>\n",
       "      <td>739</td>\n",
       "      <td>203774</td>\n",
       "    </tr>\n",
       "    <tr>\n",
       "      <th>9</th>\n",
       "      <td>2020</td>\n",
       "      <td>10</td>\n",
       "      <td>31</td>\n",
       "      <td>23281</td>\n",
       "      <td>751</td>\n",
       "      <td>227055</td>\n",
       "    </tr>\n",
       "    <tr>\n",
       "      <th>10</th>\n",
       "      <td>2020</td>\n",
       "      <td>11</td>\n",
       "      <td>30</td>\n",
       "      <td>36750</td>\n",
       "      <td>1225</td>\n",
       "      <td>263805</td>\n",
       "    </tr>\n",
       "    <tr>\n",
       "      <th>11</th>\n",
       "      <td>2020</td>\n",
       "      <td>12</td>\n",
       "      <td>15</td>\n",
       "      <td>33705</td>\n",
       "      <td>2247</td>\n",
       "      <td>297510</td>\n",
       "    </tr>\n",
       "  </tbody>\n",
       "</table>\n",
       "</div>"
      ],
      "text/plain": [
       "    Year  Month  No_of_Days  Monthly_Deaths  Per_Day_Deaths  Cum_Deaths\n",
       "0   2020      1          31               0               0           0\n",
       "1   2020      2          29               0               0           0\n",
       "2   2020      3          31            2387              77        2387\n",
       "3   2020      4          30           55320            1844       57707\n",
       "4   2020      5          31           44888            1448      102595\n",
       "5   2020      6          30           23550             785      126145\n",
       "6   2020      7          31           23839             769      149984\n",
       "7   2020      8          31           31620            1020      181604\n",
       "8   2020      9          30           22170             739      203774\n",
       "9   2020     10          31           23281             751      227055\n",
       "10  2020     11          30           36750            1225      263805\n",
       "11  2020     12          15           33705            2247      297510"
      ]
     },
     "execution_count": 18,
     "metadata": {},
     "output_type": "execute_result"
    }
   ],
   "source": [
    "deaths"
   ]
  },
  {
   "cell_type": "code",
   "execution_count": 19,
   "id": "bcca748e",
   "metadata": {},
   "outputs": [
    {
     "data": {
      "image/png": "[encoded data removed]",
      "text/plain": [
       "<Figure size 600x300 with 1 Axes>"
      ]
     },
     "metadata": {},
     "output_type": "display_data"
    }
   ],
   "source": [
    "fig, ax = plt.subplots(figsize=(6,3))\n",
    "\n",
    "ax.plot(deaths[\"Month\"], deaths[\"Per_Day_Deaths\"])\n",
    "\n",
    "plt.show()"
   ]
  },
  {
   "cell_type": "code",
   "execution_count": 20,
   "id": "d0a447e0",
   "metadata": {},
   "outputs": [
    {
     "data": {
      "text/plain": [
       "[0.503, 0.626, 0.704, 0.8]"
      ]
     },
     "execution_count": 20,
     "metadata": {},
     "output_type": "execute_result"
    }
   ],
   "source": [
    "cum_cases = [deaths[\"Cum_Deaths\"][2], deaths[\"Cum_Deaths\"][5],\n",
    "             deaths[\"Cum_Deaths\"][8], deaths[\"Cum_Deaths\"][11]]\n",
    "    \n",
    "proportion = [round(i/cum_cases[-1],2) for i in cum_cases]\n",
    "\n",
    "hline_max = [round(0.5+i*(0.8-0.5),3) for i in proportion]\n",
    "hline_max\n",
    "    "
   ]
  },
  {
   "cell_type": "code",
   "execution_count": 24,
   "id": "462378fe",
   "metadata": {},
   "outputs": [
    {
     "data": {
      "image/png": "[encoded data removed]",
      "text/plain": [
       "<Figure size 600x1100 with 4 Axes>"
      ]
     },
     "metadata": {},
     "output_type": "display_data"
    }
   ],
   "source": [
    "fig, (ax1, ax2, ax3, ax4) = plt.subplots(nrows=4, ncols=1, figsize = (6,11))\n",
    "\n",
    "axes = [ax1, ax2, ax3, ax4]\n",
    "\n",
    "avg_monthly_deaths = round(deaths[\"Per_Day_Deaths\"].mean())\n",
    "\n",
    "ax1.text(x=0.5, y=3500, s=\"The Virus Kills {:,} Peoples Everday\".format(avg_monthly_deaths),\n",
    "         weight=\"bold\", size= 15)\n",
    "ax1.text(x=0.5, y=3100, s=\"Average number of daily deaths\", size= 13)\n",
    "\n",
    "for ax, hline, cum_death in zip(axes, hline_max, cum_cases):\n",
    "    ax.plot(deaths[\"Month\"], deaths[\"Per_Day_Deaths\"], color=\"#91150d\", alpha=0.25)\n",
    "    ax.set_xticklabels([])\n",
    "    ax.set_yticklabels([])\n",
    "    ax.tick_params(left=False, bottom=False)\n",
    "    ax.axhline(y=2000, xmin=0.5, xmax= 0.8, color=\"#91150d\", linewidth=6, alpha=0.1)\n",
    "    ax.text(x=6, y=2150, s=\"{:,} Cumulative Deaths\".format(cum_death))\n",
    "    ax.axhline(y=2000, xmin=0.5, xmax= hline, color=\"#91150d\", linewidth=6)    \n",
    "\n",
    "    for spine in ax.spines:\n",
    "        ax.spines[spine].set_visible(False)\n",
    "        \n",
    "ax1.plot(deaths[\"Month\"][:3], deaths[\"Per_Day_Deaths\"][:3], color=\"#91150d\", linewidth=2.5)\n",
    "ax1.text(x=0.5, y=-60, s=\"0\", alpha=0.5)\n",
    "ax1.text(x=1.2, y=-200, s=\"Jan - Mar\", rotation=3)\n",
    "\n",
    "ax2.plot(deaths[\"Month\"][2:6], deaths[\"Per_Day_Deaths\"][2:6], color=\"#91150d\", linewidth=2.5)\n",
    "ax2.text(x=3.4, y=1950, s=\"1,844\", alpha=0.5)\n",
    "ax2.text(x=3.75, y=1000, s=\"Apr - Jun\")\n",
    "\n",
    "ax3.plot(deaths[\"Month\"][5:9], deaths[\"Per_Day_Deaths\"][5:9], color=\"#91150d\", linewidth=2.5)\n",
    "ax3.text(x=7.45, y=1150, s=\"1,020\", alpha=0.5)\n",
    "ax3.text(x=7.2, y=600, s=\"Jul - Sep\")\n",
    "\n",
    "ax4.plot(deaths[\"Month\"][8:], deaths[\"Per_Day_Deaths\"][8:], color=\"#91150d\", linewidth=2.5)\n",
    "ax4.text(x=11.45, y=2400, s=\"2,247\", alpha=0.5)\n",
    "ax4.text(x=11, y=900, s=\"Oct - Dec\", rotation=55)\n",
    "\n",
    "plt.show()"
   ]
  },
  {
   "cell_type": "code",
   "execution_count": null,
   "id": "0d0e8ee8",
   "metadata": {},
   "outputs": [],
   "source": []
  }
 ],
 "metadata": {
  "kernelspec": {
   "display_name": "Python 3 (ipykernel)",
   "language": "python",
   "name": "python3"
  },
  "language_info": {
   "codemirror_mode": {
    "name": "ipython",
    "version": 3
   },
   "file_extension": ".py",
   "mimetype": "text/x-python",
   "name": "python",
   "nbconvert_exporter": "python",
   "pygments_lexer": "ipython3",
   "version": "3.11.7"
  }
 },
 "nbformat": 4,
 "nbformat_minor": 5
}
