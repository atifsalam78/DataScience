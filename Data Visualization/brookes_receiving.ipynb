{
 "cells": [
  {
   "cell_type": "code",
   "execution_count": 1,
   "id": "5a6219dd",
   "metadata": {},
   "outputs": [],
   "source": [
    "import pandas as pd\n",
    "import matplotlib.pyplot as plt"
   ]
  },
  {
   "cell_type": "code",
   "execution_count": 2,
   "id": "a398774f",
   "metadata": {},
   "outputs": [],
   "source": [
    "brookes_df = pd.read_csv(\"C:/Users/atif/Dropbox/Data Science NED/Data Visualization/Brookes/Receiving.csv\")"
   ]
  },
  {
   "cell_type": "code",
   "execution_count": 3,
   "id": "bbf64e52",
   "metadata": {},
   "outputs": [
    {
     "data": {
      "text/html": [
       "<div>\n",
       "<style scoped>\n",
       "    .dataframe tbody tr th:only-of-type {\n",
       "        vertical-align: middle;\n",
       "    }\n",
       "\n",
       "    .dataframe tbody tr th {\n",
       "        vertical-align: top;\n",
       "    }\n",
       "\n",
       "    .dataframe thead th {\n",
       "        text-align: right;\n",
       "    }\n",
       "</style>\n",
       "<table border=\"1\" class=\"dataframe\">\n",
       "  <thead>\n",
       "    <tr style=\"text-align: right;\">\n",
       "      <th></th>\n",
       "      <th>Sr</th>\n",
       "      <th>Item Code</th>\n",
       "      <th>Item Name</th>\n",
       "      <th>Supplier / Department</th>\n",
       "      <th>PO No.</th>\n",
       "      <th>DC Number</th>\n",
       "      <th>MRR No.</th>\n",
       "      <th>Shipment No.</th>\n",
       "      <th>Lot No.</th>\n",
       "      <th>Potency</th>\n",
       "      <th>Requested Date</th>\n",
       "      <th>Receiving Date</th>\n",
       "      <th>Quantity</th>\n",
       "      <th>UOM</th>\n",
       "      <th>Sample Date</th>\n",
       "      <th>Release Status</th>\n",
       "      <th>Rel / Rej / Hold Date</th>\n",
       "      <th>Manufacturer</th>\n",
       "    </tr>\n",
       "  </thead>\n",
       "  <tbody>\n",
       "    <tr>\n",
       "      <th>0</th>\n",
       "      <td>1</td>\n",
       "      <td>1307-00222-2017</td>\n",
       "      <td>STICKER INCETAX 1.00gm INJECTION (EXPORT) C/P ...</td>\n",
       "      <td>SWS (PVT) LIMITED</td>\n",
       "      <td>12611</td>\n",
       "      <td>2738</td>\n",
       "      <td>462</td>\n",
       "      <td>NaN</td>\n",
       "      <td>10298</td>\n",
       "      <td>-</td>\n",
       "      <td>30-Oct-21</td>\n",
       "      <td>4-Jan-22</td>\n",
       "      <td>53950.0</td>\n",
       "      <td>Numbers</td>\n",
       "      <td>7-Jan-22</td>\n",
       "      <td>Released</td>\n",
       "      <td>13-Jan-22</td>\n",
       "      <td>NaN</td>\n",
       "    </tr>\n",
       "    <tr>\n",
       "      <th>1</th>\n",
       "      <td>2</td>\n",
       "      <td>1308-00748-1002</td>\n",
       "      <td>CARTON RYXON 1gm INJECTION C/P - (ND) - R2 - L...</td>\n",
       "      <td>METIER IMPRESSIONS (PVT) LTD.</td>\n",
       "      <td>12148</td>\n",
       "      <td>21220622</td>\n",
       "      <td>463</td>\n",
       "      <td>NaN</td>\n",
       "      <td>10308</td>\n",
       "      <td>-</td>\n",
       "      <td>5-Nov-21</td>\n",
       "      <td>5-Jan-22</td>\n",
       "      <td>133500.0</td>\n",
       "      <td>Numbers</td>\n",
       "      <td>7-Jan-22</td>\n",
       "      <td>Released</td>\n",
       "      <td>17-Jan-22</td>\n",
       "      <td>NaN</td>\n",
       "    </tr>\n",
       "    <tr>\n",
       "      <th>2</th>\n",
       "      <td>3</td>\n",
       "      <td>1308-00748-1002</td>\n",
       "      <td>CARTON RYXON 1gm INJECTION C/P - (ND) - R2 - L...</td>\n",
       "      <td>METIER IMPRESSIONS (PVT) LTD.</td>\n",
       "      <td>12148</td>\n",
       "      <td>21220710</td>\n",
       "      <td>464</td>\n",
       "      <td>NaN</td>\n",
       "      <td>10425</td>\n",
       "      <td>-</td>\n",
       "      <td>6-Dec-21</td>\n",
       "      <td>26-Jan-22</td>\n",
       "      <td>318950.0</td>\n",
       "      <td>Numbers</td>\n",
       "      <td>27-Jan-22</td>\n",
       "      <td>Released</td>\n",
       "      <td>7-Feb-22</td>\n",
       "      <td>NaN</td>\n",
       "    </tr>\n",
       "    <tr>\n",
       "      <th>3</th>\n",
       "      <td>4</td>\n",
       "      <td>1307-00293-3002</td>\n",
       "      <td>STICKERS RYXON 1gm INJECTION (GOP) - (ND) - R1...</td>\n",
       "      <td>AN TRADERS</td>\n",
       "      <td>13451</td>\n",
       "      <td>164</td>\n",
       "      <td>465</td>\n",
       "      <td>NaN</td>\n",
       "      <td>10440</td>\n",
       "      <td>-</td>\n",
       "      <td>22-Jan-22</td>\n",
       "      <td>29-Jan-22</td>\n",
       "      <td>250000.0</td>\n",
       "      <td>Numbers</td>\n",
       "      <td>9-Feb-22</td>\n",
       "      <td>Released</td>\n",
       "      <td>10-Feb-22</td>\n",
       "      <td>NaN</td>\n",
       "    </tr>\n",
       "    <tr>\n",
       "      <th>4</th>\n",
       "      <td>5</td>\n",
       "      <td>1307-00293-3002</td>\n",
       "      <td>STICKERS RYXON 1gm INJECTION (GOP) - (ND) - R1...</td>\n",
       "      <td>AN TRADERS</td>\n",
       "      <td>13451</td>\n",
       "      <td>169</td>\n",
       "      <td>466</td>\n",
       "      <td>NaN</td>\n",
       "      <td>10444</td>\n",
       "      <td>-</td>\n",
       "      <td>22-Jan-22</td>\n",
       "      <td>31-Jan-22</td>\n",
       "      <td>50000.0</td>\n",
       "      <td>Numbers</td>\n",
       "      <td>1-Feb-22</td>\n",
       "      <td>Released</td>\n",
       "      <td>1-Feb-22</td>\n",
       "      <td>NaN</td>\n",
       "    </tr>\n",
       "    <tr>\n",
       "      <th>...</th>\n",
       "      <td>...</td>\n",
       "      <td>...</td>\n",
       "      <td>...</td>\n",
       "      <td>...</td>\n",
       "      <td>...</td>\n",
       "      <td>...</td>\n",
       "      <td>...</td>\n",
       "      <td>...</td>\n",
       "      <td>...</td>\n",
       "      <td>...</td>\n",
       "      <td>...</td>\n",
       "      <td>...</td>\n",
       "      <td>...</td>\n",
       "      <td>...</td>\n",
       "      <td>...</td>\n",
       "      <td>...</td>\n",
       "      <td>...</td>\n",
       "      <td>...</td>\n",
       "    </tr>\n",
       "    <tr>\n",
       "      <th>19280</th>\n",
       "      <td>627</td>\n",
       "      <td>1003-00125-0000</td>\n",
       "      <td>SODIUM SACCHARIN</td>\n",
       "      <td>MAK KEMIKAL</td>\n",
       "      <td>17582</td>\n",
       "      <td>MK-2303-BROOKES</td>\n",
       "      <td>13266</td>\n",
       "      <td>NaN</td>\n",
       "      <td>13627</td>\n",
       "      <td>-</td>\n",
       "      <td>10-Nov-23</td>\n",
       "      <td>13-Oct-23</td>\n",
       "      <td>25.0</td>\n",
       "      <td>Kilogram</td>\n",
       "      <td>16-Oct-23</td>\n",
       "      <td>Receiving Quarantine Lot</td>\n",
       "      <td>NaN</td>\n",
       "      <td>TIANJIN CHANGJIE CHEMICAL CO. LTD.</td>\n",
       "    </tr>\n",
       "    <tr>\n",
       "      <th>19281</th>\n",
       "      <td>628</td>\n",
       "      <td>1001-00071-0000</td>\n",
       "      <td>P.V.P. IODINE</td>\n",
       "      <td>ASHLAND SPECIALTY CHEMICAL (SINGAPORE) PTE. LTD</td>\n",
       "      <td>16135</td>\n",
       "      <td>5080561</td>\n",
       "      <td>13280</td>\n",
       "      <td>1137.2</td>\n",
       "      <td>13640</td>\n",
       "      <td>0.987</td>\n",
       "      <td>15-Jan-23</td>\n",
       "      <td>14-Oct-23</td>\n",
       "      <td>499.0</td>\n",
       "      <td>Kilogram</td>\n",
       "      <td>14-Oct-23</td>\n",
       "      <td>Released</td>\n",
       "      <td>16-Oct-23</td>\n",
       "      <td>ISP CHEMICALS LLC</td>\n",
       "    </tr>\n",
       "    <tr>\n",
       "      <th>19282</th>\n",
       "      <td>629</td>\n",
       "      <td>1001-00071-0000</td>\n",
       "      <td>P.V.P. IODINE</td>\n",
       "      <td>ASHLAND SPECIALTY CHEMICAL (SINGAPORE) PTE. LTD</td>\n",
       "      <td>16135</td>\n",
       "      <td>5080561</td>\n",
       "      <td>13281</td>\n",
       "      <td>1137.1</td>\n",
       "      <td>13641</td>\n",
       "      <td>0.983</td>\n",
       "      <td>15-Jan-23</td>\n",
       "      <td>14-Oct-23</td>\n",
       "      <td>2495.0</td>\n",
       "      <td>Kilogram</td>\n",
       "      <td>14-Oct-23</td>\n",
       "      <td>Released</td>\n",
       "      <td>16-Oct-23</td>\n",
       "      <td>ISP CHEMICALS LLC</td>\n",
       "    </tr>\n",
       "    <tr>\n",
       "      <th>19283</th>\n",
       "      <td>630</td>\n",
       "      <td>1001-00006-0000</td>\n",
       "      <td>AMANTADINE SULPHATE</td>\n",
       "      <td>MOEHS CANTABRA, S. L</td>\n",
       "      <td>15275</td>\n",
       "      <td>CB2200341</td>\n",
       "      <td>11442</td>\n",
       "      <td>986.1</td>\n",
       "      <td>257</td>\n",
       "      <td>-</td>\n",
       "      <td>16-Sep-22</td>\n",
       "      <td>28-Oct-22</td>\n",
       "      <td>240.0</td>\n",
       "      <td>Kilogram</td>\n",
       "      <td>NaN</td>\n",
       "      <td>Receiving Quarantine Lot</td>\n",
       "      <td>NaN</td>\n",
       "      <td>MOEHS CANTABRA, S. L - SPAIN</td>\n",
       "    </tr>\n",
       "    <tr>\n",
       "      <th>19284</th>\n",
       "      <td>631</td>\n",
       "      <td>1001-00006-0000</td>\n",
       "      <td>AMANTADINE SULPHATE</td>\n",
       "      <td>MOEHS CANTABRA, S. L</td>\n",
       "      <td>15275</td>\n",
       "      <td>CB2200341</td>\n",
       "      <td>11442</td>\n",
       "      <td>986.1</td>\n",
       "      <td>257</td>\n",
       "      <td>-</td>\n",
       "      <td>16-Sep-22</td>\n",
       "      <td>28-Oct-22</td>\n",
       "      <td>240.0</td>\n",
       "      <td>Kilogram</td>\n",
       "      <td>NaN</td>\n",
       "      <td>Receiving Quarantine Lot</td>\n",
       "      <td>NaN</td>\n",
       "      <td>MOEHS CANTABRA, S. L - SPAIN</td>\n",
       "    </tr>\n",
       "  </tbody>\n",
       "</table>\n",
       "<p>19285 rows × 18 columns</p>\n",
       "</div>"
      ],
      "text/plain": [
       "        Sr        Item Code  \\\n",
       "0        1  1307-00222-2017   \n",
       "1        2  1308-00748-1002   \n",
       "2        3  1308-00748-1002   \n",
       "3        4  1307-00293-3002   \n",
       "4        5  1307-00293-3002   \n",
       "...    ...              ...   \n",
       "19280  627  1003-00125-0000   \n",
       "19281  628  1001-00071-0000   \n",
       "19282  629  1001-00071-0000   \n",
       "19283  630  1001-00006-0000   \n",
       "19284  631  1001-00006-0000   \n",
       "\n",
       "                                               Item Name  \\\n",
       "0      STICKER INCETAX 1.00gm INJECTION (EXPORT) C/P ...   \n",
       "1      CARTON RYXON 1gm INJECTION C/P - (ND) - R2 - L...   \n",
       "2      CARTON RYXON 1gm INJECTION C/P - (ND) - R2 - L...   \n",
       "3      STICKERS RYXON 1gm INJECTION (GOP) - (ND) - R1...   \n",
       "4      STICKERS RYXON 1gm INJECTION (GOP) - (ND) - R1...   \n",
       "...                                                  ...   \n",
       "19280                                   SODIUM SACCHARIN   \n",
       "19281                                      P.V.P. IODINE   \n",
       "19282                                      P.V.P. IODINE   \n",
       "19283                                AMANTADINE SULPHATE   \n",
       "19284                                AMANTADINE SULPHATE   \n",
       "\n",
       "                                 Supplier / Department  PO No.  \\\n",
       "0                                    SWS (PVT) LIMITED   12611   \n",
       "1                        METIER IMPRESSIONS (PVT) LTD.   12148   \n",
       "2                        METIER IMPRESSIONS (PVT) LTD.   12148   \n",
       "3                                           AN TRADERS   13451   \n",
       "4                                           AN TRADERS   13451   \n",
       "...                                                ...     ...   \n",
       "19280                                      MAK KEMIKAL   17582   \n",
       "19281  ASHLAND SPECIALTY CHEMICAL (SINGAPORE) PTE. LTD   16135   \n",
       "19282  ASHLAND SPECIALTY CHEMICAL (SINGAPORE) PTE. LTD   16135   \n",
       "19283                             MOEHS CANTABRA, S. L   15275   \n",
       "19284                             MOEHS CANTABRA, S. L   15275   \n",
       "\n",
       "             DC Number  MRR No. Shipment No. Lot No. Potency Requested Date  \\\n",
       "0                 2738      462          NaN   10298       -      30-Oct-21   \n",
       "1             21220622      463          NaN   10308       -       5-Nov-21   \n",
       "2             21220710      464          NaN   10425       -       6-Dec-21   \n",
       "3                  164      465          NaN   10440       -      22-Jan-22   \n",
       "4                  169      466          NaN   10444       -      22-Jan-22   \n",
       "...                ...      ...          ...     ...     ...            ...   \n",
       "19280  MK-2303-BROOKES    13266          NaN   13627       -      10-Nov-23   \n",
       "19281          5080561    13280       1137.2   13640   0.987      15-Jan-23   \n",
       "19282          5080561    13281       1137.1   13641   0.983      15-Jan-23   \n",
       "19283        CB2200341    11442        986.1     257       -      16-Sep-22   \n",
       "19284        CB2200341    11442        986.1     257       -      16-Sep-22   \n",
       "\n",
       "      Receiving Date  Quantity        UOM Sample Date  \\\n",
       "0           4-Jan-22    53950.0   Numbers    7-Jan-22   \n",
       "1           5-Jan-22   133500.0   Numbers    7-Jan-22   \n",
       "2          26-Jan-22   318950.0   Numbers   27-Jan-22   \n",
       "3          29-Jan-22   250000.0   Numbers    9-Feb-22   \n",
       "4          31-Jan-22    50000.0   Numbers    1-Feb-22   \n",
       "...              ...        ...       ...         ...   \n",
       "19280      13-Oct-23       25.0  Kilogram   16-Oct-23   \n",
       "19281      14-Oct-23      499.0  Kilogram   14-Oct-23   \n",
       "19282      14-Oct-23     2495.0  Kilogram   14-Oct-23   \n",
       "19283      28-Oct-22      240.0  Kilogram         NaN   \n",
       "19284      28-Oct-22      240.0  Kilogram         NaN   \n",
       "\n",
       "                 Release Status Rel / Rej / Hold Date  \\\n",
       "0                      Released             13-Jan-22   \n",
       "1                      Released             17-Jan-22   \n",
       "2                      Released              7-Feb-22   \n",
       "3                      Released             10-Feb-22   \n",
       "4                      Released              1-Feb-22   \n",
       "...                         ...                   ...   \n",
       "19280  Receiving Quarantine Lot                   NaN   \n",
       "19281                  Released             16-Oct-23   \n",
       "19282                  Released             16-Oct-23   \n",
       "19283  Receiving Quarantine Lot                   NaN   \n",
       "19284  Receiving Quarantine Lot                   NaN   \n",
       "\n",
       "                             Manufacturer  \n",
       "0                                     NaN  \n",
       "1                                     NaN  \n",
       "2                                     NaN  \n",
       "3                                     NaN  \n",
       "4                                     NaN  \n",
       "...                                   ...  \n",
       "19280  TIANJIN CHANGJIE CHEMICAL CO. LTD.  \n",
       "19281                   ISP CHEMICALS LLC  \n",
       "19282                   ISP CHEMICALS LLC  \n",
       "19283        MOEHS CANTABRA, S. L - SPAIN  \n",
       "19284        MOEHS CANTABRA, S. L - SPAIN  \n",
       "\n",
       "[19285 rows x 18 columns]"
      ]
     },
     "execution_count": 3,
     "metadata": {},
     "output_type": "execute_result"
    }
   ],
   "source": [
    "brookes_df"
   ]
  },
  {
   "cell_type": "code",
   "execution_count": 4,
   "id": "7f42770b",
   "metadata": {},
   "outputs": [
    {
     "data": {
      "text/plain": [
       "(19285, 18)"
      ]
     },
     "execution_count": 4,
     "metadata": {},
     "output_type": "execute_result"
    }
   ],
   "source": [
    "brookes_df.shape"
   ]
  },
  {
   "cell_type": "code",
   "execution_count": 4,
   "id": "f5c9fb4f",
   "metadata": {},
   "outputs": [
    {
     "data": {
      "text/html": [
       "<div>\n",
       "<style scoped>\n",
       "    .dataframe tbody tr th:only-of-type {\n",
       "        vertical-align: middle;\n",
       "    }\n",
       "\n",
       "    .dataframe tbody tr th {\n",
       "        vertical-align: top;\n",
       "    }\n",
       "\n",
       "    .dataframe thead th {\n",
       "        text-align: right;\n",
       "    }\n",
       "</style>\n",
       "<table border=\"1\" class=\"dataframe\">\n",
       "  <thead>\n",
       "    <tr style=\"text-align: right;\">\n",
       "      <th></th>\n",
       "      <th>Sr</th>\n",
       "      <th>PO No.</th>\n",
       "      <th>MRR No.</th>\n",
       "      <th>Quantity</th>\n",
       "    </tr>\n",
       "  </thead>\n",
       "  <tbody>\n",
       "    <tr>\n",
       "      <th>count</th>\n",
       "      <td>19285.000000</td>\n",
       "      <td>19285.000000</td>\n",
       "      <td>19285.000000</td>\n",
       "      <td>1.928500e+04</td>\n",
       "    </tr>\n",
       "    <tr>\n",
       "      <th>mean</th>\n",
       "      <td>2685.100078</td>\n",
       "      <td>15220.248120</td>\n",
       "      <td>6038.797148</td>\n",
       "      <td>1.264626e+04</td>\n",
       "    </tr>\n",
       "    <tr>\n",
       "      <th>std</th>\n",
       "      <td>2908.354116</td>\n",
       "      <td>1358.989917</td>\n",
       "      <td>2608.757559</td>\n",
       "      <td>8.335258e+04</td>\n",
       "    </tr>\n",
       "    <tr>\n",
       "      <th>min</th>\n",
       "      <td>1.000000</td>\n",
       "      <td>324.000000</td>\n",
       "      <td>170.000000</td>\n",
       "      <td>1.200000e-04</td>\n",
       "    </tr>\n",
       "    <tr>\n",
       "      <th>25%</th>\n",
       "      <td>306.000000</td>\n",
       "      <td>14111.000000</td>\n",
       "      <td>4592.000000</td>\n",
       "      <td>2.000000e+00</td>\n",
       "    </tr>\n",
       "    <tr>\n",
       "      <th>50%</th>\n",
       "      <td>1298.000000</td>\n",
       "      <td>15290.000000</td>\n",
       "      <td>5130.000000</td>\n",
       "      <td>1.000000e+01</td>\n",
       "    </tr>\n",
       "    <tr>\n",
       "      <th>75%</th>\n",
       "      <td>4778.000000</td>\n",
       "      <td>16297.000000</td>\n",
       "      <td>5698.000000</td>\n",
       "      <td>9.000000e+01</td>\n",
       "    </tr>\n",
       "    <tr>\n",
       "      <th>max</th>\n",
       "      <td>9599.000000</td>\n",
       "      <td>17595.000000</td>\n",
       "      <td>13293.000000</td>\n",
       "      <td>4.615000e+06</td>\n",
       "    </tr>\n",
       "  </tbody>\n",
       "</table>\n",
       "</div>"
      ],
      "text/plain": [
       "                 Sr        PO No.       MRR No.     Quantity \n",
       "count  19285.000000  19285.000000  19285.000000  1.928500e+04\n",
       "mean    2685.100078  15220.248120   6038.797148  1.264626e+04\n",
       "std     2908.354116   1358.989917   2608.757559  8.335258e+04\n",
       "min        1.000000    324.000000    170.000000  1.200000e-04\n",
       "25%      306.000000  14111.000000   4592.000000  2.000000e+00\n",
       "50%     1298.000000  15290.000000   5130.000000  1.000000e+01\n",
       "75%     4778.000000  16297.000000   5698.000000  9.000000e+01\n",
       "max     9599.000000  17595.000000  13293.000000  4.615000e+06"
      ]
     },
     "execution_count": 4,
     "metadata": {},
     "output_type": "execute_result"
    }
   ],
   "source": [
    "brookes_df.describe()"
   ]
  },
  {
   "cell_type": "code",
   "execution_count": 5,
   "id": "e907e23d",
   "metadata": {},
   "outputs": [
    {
     "name": "stdout",
     "output_type": "stream",
     "text": [
      "<class 'pandas.core.frame.DataFrame'>\n",
      "RangeIndex: 19285 entries, 0 to 19284\n",
      "Data columns (total 18 columns):\n",
      " #   Column                 Non-Null Count  Dtype  \n",
      "---  ------                 --------------  -----  \n",
      " 0   Sr                     19285 non-null  int64  \n",
      " 1   Item Code              19285 non-null  object \n",
      " 2   Item Name              19285 non-null  object \n",
      " 3   Supplier / Department  19285 non-null  object \n",
      " 4   PO No.                 19285 non-null  int64  \n",
      " 5   DC Number              8881 non-null   object \n",
      " 6   MRR No.                19285 non-null  int64  \n",
      " 7   Shipment No.           534 non-null    object \n",
      " 8   Lot No.                3397 non-null   object \n",
      " 9   Potency                19285 non-null  object \n",
      " 10  Requested Date         19285 non-null  object \n",
      " 11  Receiving Date         19285 non-null  object \n",
      " 12  Quantity               19285 non-null  float64\n",
      " 13  UOM                    19285 non-null  object \n",
      " 14  Sample Date            3319 non-null   object \n",
      " 15  Release Status         3397 non-null   object \n",
      " 16  Rel / Rej / Hold Date  3287 non-null   object \n",
      " 17  Manufacturer           695 non-null    object \n",
      "dtypes: float64(1), int64(3), object(14)\n",
      "memory usage: 2.6+ MB\n"
     ]
    }
   ],
   "source": [
    "brookes_df.info()"
   ]
  },
  {
   "cell_type": "code",
   "execution_count": 6,
   "id": "38e01e65",
   "metadata": {},
   "outputs": [],
   "source": [
    "brookes_df.rename(columns = {\"Item Code\":\"Item_Code\", \"Item Name\":\"Item_Name\",\n",
    "                             \"Supplier / Department\":\"Supplier\",\"PO No.\":\"PO_No.\",\n",
    "                            \"DC Number\": \"DC_Number\", \"MRR No.\":\"MRR_No.\",\n",
    "                             \"Shipment No.\": \"Shipment_No.\", \"Lot No.\":\"Lot_No.\",\n",
    "                            \"Requested Date\": \"Requested_Date\",\n",
    "                            \"Receiving Date\": \"Receiving_Date\", \"Quantity \": \"Qty\",\n",
    "                             \"Sample Date\": \"Sample_Date\",\n",
    "                            \"Release Status\": \"Release_Status\",\"Rel / Rej / Hold Date\":\"Rel_Rej_Hold_Date\",\n",
    "                            }, inplace=True)"
   ]
  },
  {
   "cell_type": "code",
   "execution_count": 7,
   "id": "7f890067",
   "metadata": {},
   "outputs": [
    {
     "name": "stdout",
     "output_type": "stream",
     "text": [
      "<class 'pandas.core.frame.DataFrame'>\n",
      "RangeIndex: 19285 entries, 0 to 19284\n",
      "Data columns (total 18 columns):\n",
      " #   Column             Non-Null Count  Dtype  \n",
      "---  ------             --------------  -----  \n",
      " 0   Sr                 19285 non-null  int64  \n",
      " 1   Item_Code          19285 non-null  object \n",
      " 2   Item_Name          19285 non-null  object \n",
      " 3   Supplier           19285 non-null  object \n",
      " 4   PO_No.             19285 non-null  int64  \n",
      " 5   DC_Number          8881 non-null   object \n",
      " 6   MRR_No.            19285 non-null  int64  \n",
      " 7   Shipment_No.       534 non-null    object \n",
      " 8   Lot_No.            3397 non-null   object \n",
      " 9   Potency            19285 non-null  object \n",
      " 10  Requested_Date     19285 non-null  object \n",
      " 11  Receiving_Date     19285 non-null  object \n",
      " 12  Qty                19285 non-null  float64\n",
      " 13  UOM                19285 non-null  object \n",
      " 14  Sample_Date        3319 non-null   object \n",
      " 15  Release_Status     3397 non-null   object \n",
      " 16  Rel_Rej_Hold_Date  3287 non-null   object \n",
      " 17  Manufacturer       695 non-null    object \n",
      "dtypes: float64(1), int64(3), object(14)\n",
      "memory usage: 2.6+ MB\n"
     ]
    }
   ],
   "source": [
    "brookes_df.info()"
   ]
  },
  {
   "cell_type": "code",
   "execution_count": 8,
   "id": "931619ef",
   "metadata": {},
   "outputs": [
    {
     "data": {
      "text/plain": [
       "Index(['Sr', 'Item_Code', 'Item_Name', 'Supplier', 'PO_No.', 'DC_Number',\n",
       "       'MRR_No.', 'Shipment_No.', 'Lot_No.', 'Potency', 'Requested_Date',\n",
       "       'Receiving_Date', 'Qty', 'UOM', 'Sample_Date', 'Release_Status',\n",
       "       'Rel_Rej_Hold_Date', 'Manufacturer'],\n",
       "      dtype='object')"
      ]
     },
     "execution_count": 8,
     "metadata": {},
     "output_type": "execute_result"
    }
   ],
   "source": [
    "brookes_df.columns"
   ]
  },
  {
   "cell_type": "code",
   "execution_count": 9,
   "id": "6059d0fa",
   "metadata": {},
   "outputs": [],
   "source": [
    "brookes_df.Receiving_Date = pd.to_datetime(brookes_df[\"Receiving_Date\"])"
   ]
  },
  {
   "cell_type": "code",
   "execution_count": 10,
   "id": "7bcbc224",
   "metadata": {},
   "outputs": [],
   "source": [
    "brookes_df.Requested_Date = pd.to_datetime(brookes_df[\"Requested_Date\"])"
   ]
  },
  {
   "cell_type": "code",
   "execution_count": 11,
   "id": "a94a3297",
   "metadata": {},
   "outputs": [],
   "source": [
    "brookes_df.Sample_Date = pd.to_datetime(brookes_df[\"Sample_Date\"])"
   ]
  },
  {
   "cell_type": "code",
   "execution_count": 12,
   "id": "0077497e",
   "metadata": {},
   "outputs": [
    {
     "name": "stdout",
     "output_type": "stream",
     "text": [
      "<class 'pandas.core.frame.DataFrame'>\n",
      "RangeIndex: 19285 entries, 0 to 19284\n",
      "Data columns (total 18 columns):\n",
      " #   Column             Non-Null Count  Dtype         \n",
      "---  ------             --------------  -----         \n",
      " 0   Sr                 19285 non-null  int64         \n",
      " 1   Item_Code          19285 non-null  object        \n",
      " 2   Item_Name          19285 non-null  object        \n",
      " 3   Supplier           19285 non-null  object        \n",
      " 4   PO_No.             19285 non-null  int64         \n",
      " 5   DC_Number          8881 non-null   object        \n",
      " 6   MRR_No.            19285 non-null  int64         \n",
      " 7   Shipment_No.       534 non-null    object        \n",
      " 8   Lot_No.            3397 non-null   object        \n",
      " 9   Potency            19285 non-null  object        \n",
      " 10  Requested_Date     19285 non-null  datetime64[ns]\n",
      " 11  Receiving_Date     19285 non-null  datetime64[ns]\n",
      " 12  Qty                19285 non-null  float64       \n",
      " 13  UOM                19285 non-null  object        \n",
      " 14  Sample_Date        3319 non-null   datetime64[ns]\n",
      " 15  Release_Status     3397 non-null   object        \n",
      " 16  Rel_Rej_Hold_Date  3287 non-null   object        \n",
      " 17  Manufacturer       695 non-null    object        \n",
      "dtypes: datetime64[ns](3), float64(1), int64(3), object(11)\n",
      "memory usage: 2.6+ MB\n"
     ]
    }
   ],
   "source": [
    "brookes_df.info()"
   ]
  },
  {
   "cell_type": "code",
   "execution_count": 13,
   "id": "2b12559a",
   "metadata": {},
   "outputs": [],
   "source": [
    "brookes_df.drop([\"Sr\", \"Potency\",\"Manufacturer\", \"DC_Number\",\n",
    "                 \"Shipment_No.\"], axis=1, inplace=True)"
   ]
  },
  {
   "cell_type": "code",
   "execution_count": 14,
   "id": "c953f542",
   "metadata": {},
   "outputs": [
    {
     "data": {
      "text/plain": [
       "Index(['Item_Code', 'Item_Name', 'Supplier', 'PO_No.', 'MRR_No.', 'Lot_No.',\n",
       "       'Requested_Date', 'Receiving_Date', 'Qty', 'UOM', 'Sample_Date',\n",
       "       'Release_Status', 'Rel_Rej_Hold_Date'],\n",
       "      dtype='object')"
      ]
     },
     "execution_count": 14,
     "metadata": {},
     "output_type": "execute_result"
    }
   ],
   "source": [
    "brookes_df.columns"
   ]
  },
  {
   "cell_type": "code",
   "execution_count": 15,
   "id": "3f34e593",
   "metadata": {},
   "outputs": [
    {
     "data": {
      "text/html": [
       "<div>\n",
       "<style scoped>\n",
       "    .dataframe tbody tr th:only-of-type {\n",
       "        vertical-align: middle;\n",
       "    }\n",
       "\n",
       "    .dataframe tbody tr th {\n",
       "        vertical-align: top;\n",
       "    }\n",
       "\n",
       "    .dataframe thead th {\n",
       "        text-align: right;\n",
       "    }\n",
       "</style>\n",
       "<table border=\"1\" class=\"dataframe\">\n",
       "  <thead>\n",
       "    <tr style=\"text-align: right;\">\n",
       "      <th></th>\n",
       "      <th>Item_Code</th>\n",
       "      <th>Item_Name</th>\n",
       "      <th>Supplier</th>\n",
       "      <th>PO_No.</th>\n",
       "      <th>MRR_No.</th>\n",
       "      <th>Lot_No.</th>\n",
       "      <th>Requested_Date</th>\n",
       "      <th>Receiving_Date</th>\n",
       "      <th>Qty</th>\n",
       "      <th>UOM</th>\n",
       "      <th>Sample_Date</th>\n",
       "      <th>Release_Status</th>\n",
       "      <th>Rel_Rej_Hold_Date</th>\n",
       "    </tr>\n",
       "  </thead>\n",
       "  <tbody>\n",
       "    <tr>\n",
       "      <th>0</th>\n",
       "      <td>1307-00222-2017</td>\n",
       "      <td>STICKER INCETAX 1.00gm INJECTION (EXPORT) C/P ...</td>\n",
       "      <td>SWS (PVT) LIMITED</td>\n",
       "      <td>12611</td>\n",
       "      <td>462</td>\n",
       "      <td>10298</td>\n",
       "      <td>2021-10-30</td>\n",
       "      <td>2022-01-04</td>\n",
       "      <td>53950.0</td>\n",
       "      <td>Numbers</td>\n",
       "      <td>2022-01-07</td>\n",
       "      <td>Released</td>\n",
       "      <td>13-Jan-22</td>\n",
       "    </tr>\n",
       "    <tr>\n",
       "      <th>1</th>\n",
       "      <td>1308-00748-1002</td>\n",
       "      <td>CARTON RYXON 1gm INJECTION C/P - (ND) - R2 - L...</td>\n",
       "      <td>METIER IMPRESSIONS (PVT) LTD.</td>\n",
       "      <td>12148</td>\n",
       "      <td>463</td>\n",
       "      <td>10308</td>\n",
       "      <td>2021-11-05</td>\n",
       "      <td>2022-01-05</td>\n",
       "      <td>133500.0</td>\n",
       "      <td>Numbers</td>\n",
       "      <td>2022-01-07</td>\n",
       "      <td>Released</td>\n",
       "      <td>17-Jan-22</td>\n",
       "    </tr>\n",
       "    <tr>\n",
       "      <th>2</th>\n",
       "      <td>1308-00748-1002</td>\n",
       "      <td>CARTON RYXON 1gm INJECTION C/P - (ND) - R2 - L...</td>\n",
       "      <td>METIER IMPRESSIONS (PVT) LTD.</td>\n",
       "      <td>12148</td>\n",
       "      <td>464</td>\n",
       "      <td>10425</td>\n",
       "      <td>2021-12-06</td>\n",
       "      <td>2022-01-26</td>\n",
       "      <td>318950.0</td>\n",
       "      <td>Numbers</td>\n",
       "      <td>2022-01-27</td>\n",
       "      <td>Released</td>\n",
       "      <td>7-Feb-22</td>\n",
       "    </tr>\n",
       "    <tr>\n",
       "      <th>3</th>\n",
       "      <td>1307-00293-3002</td>\n",
       "      <td>STICKERS RYXON 1gm INJECTION (GOP) - (ND) - R1...</td>\n",
       "      <td>AN TRADERS</td>\n",
       "      <td>13451</td>\n",
       "      <td>465</td>\n",
       "      <td>10440</td>\n",
       "      <td>2022-01-22</td>\n",
       "      <td>2022-01-29</td>\n",
       "      <td>250000.0</td>\n",
       "      <td>Numbers</td>\n",
       "      <td>2022-02-09</td>\n",
       "      <td>Released</td>\n",
       "      <td>10-Feb-22</td>\n",
       "    </tr>\n",
       "    <tr>\n",
       "      <th>4</th>\n",
       "      <td>1307-00293-3002</td>\n",
       "      <td>STICKERS RYXON 1gm INJECTION (GOP) - (ND) - R1...</td>\n",
       "      <td>AN TRADERS</td>\n",
       "      <td>13451</td>\n",
       "      <td>466</td>\n",
       "      <td>10444</td>\n",
       "      <td>2022-01-22</td>\n",
       "      <td>2022-01-31</td>\n",
       "      <td>50000.0</td>\n",
       "      <td>Numbers</td>\n",
       "      <td>2022-02-01</td>\n",
       "      <td>Released</td>\n",
       "      <td>1-Feb-22</td>\n",
       "    </tr>\n",
       "  </tbody>\n",
       "</table>\n",
       "</div>"
      ],
      "text/plain": [
       "         Item_Code                                          Item_Name  \\\n",
       "0  1307-00222-2017  STICKER INCETAX 1.00gm INJECTION (EXPORT) C/P ...   \n",
       "1  1308-00748-1002  CARTON RYXON 1gm INJECTION C/P - (ND) - R2 - L...   \n",
       "2  1308-00748-1002  CARTON RYXON 1gm INJECTION C/P - (ND) - R2 - L...   \n",
       "3  1307-00293-3002  STICKERS RYXON 1gm INJECTION (GOP) - (ND) - R1...   \n",
       "4  1307-00293-3002  STICKERS RYXON 1gm INJECTION (GOP) - (ND) - R1...   \n",
       "\n",
       "                        Supplier  PO_No.  MRR_No. Lot_No. Requested_Date  \\\n",
       "0              SWS (PVT) LIMITED   12611      462   10298     2021-10-30   \n",
       "1  METIER IMPRESSIONS (PVT) LTD.   12148      463   10308     2021-11-05   \n",
       "2  METIER IMPRESSIONS (PVT) LTD.   12148      464   10425     2021-12-06   \n",
       "3                     AN TRADERS   13451      465   10440     2022-01-22   \n",
       "4                     AN TRADERS   13451      466   10444     2022-01-22   \n",
       "\n",
       "  Receiving_Date       Qty      UOM Sample_Date Release_Status  \\\n",
       "0     2022-01-04   53950.0  Numbers  2022-01-07       Released   \n",
       "1     2022-01-05  133500.0  Numbers  2022-01-07       Released   \n",
       "2     2022-01-26  318950.0  Numbers  2022-01-27       Released   \n",
       "3     2022-01-29  250000.0  Numbers  2022-02-09       Released   \n",
       "4     2022-01-31   50000.0  Numbers  2022-02-01       Released   \n",
       "\n",
       "  Rel_Rej_Hold_Date  \n",
       "0         13-Jan-22  \n",
       "1         17-Jan-22  \n",
       "2          7-Feb-22  \n",
       "3         10-Feb-22  \n",
       "4          1-Feb-22  "
      ]
     },
     "execution_count": 15,
     "metadata": {},
     "output_type": "execute_result"
    }
   ],
   "source": [
    "brookes_df.head()"
   ]
  },
  {
   "cell_type": "code",
   "execution_count": 16,
   "id": "511d84af-6441-4787-96a4-344d44c4688a",
   "metadata": {},
   "outputs": [
    {
     "name": "stdout",
     "output_type": "stream",
     "text": [
      "<class 'pandas.core.frame.DataFrame'>\n",
      "RangeIndex: 19285 entries, 0 to 19284\n",
      "Data columns (total 13 columns):\n",
      " #   Column             Non-Null Count  Dtype         \n",
      "---  ------             --------------  -----         \n",
      " 0   Item_Code          19285 non-null  object        \n",
      " 1   Item_Name          19285 non-null  object        \n",
      " 2   Supplier           19285 non-null  object        \n",
      " 3   PO_No.             19285 non-null  int64         \n",
      " 4   MRR_No.            19285 non-null  int64         \n",
      " 5   Lot_No.            3397 non-null   object        \n",
      " 6   Requested_Date     19285 non-null  datetime64[ns]\n",
      " 7   Receiving_Date     19285 non-null  datetime64[ns]\n",
      " 8   Qty                19285 non-null  float64       \n",
      " 9   UOM                19285 non-null  object        \n",
      " 10  Sample_Date        3319 non-null   datetime64[ns]\n",
      " 11  Release_Status     3397 non-null   object        \n",
      " 12  Rel_Rej_Hold_Date  3287 non-null   object        \n",
      "dtypes: datetime64[ns](3), float64(1), int64(2), object(7)\n",
      "memory usage: 1.9+ MB\n"
     ]
    }
   ],
   "source": [
    "brookes_df.info()"
   ]
  },
  {
   "cell_type": "code",
   "execution_count": 17,
   "id": "140484bc",
   "metadata": {},
   "outputs": [
    {
     "data": {
      "text/plain": [
       "array(['Released', 'Receiving Quarantine Lot', 'Hold',\n",
       "       'Rejected Material', nan, 'OSP Quarantine Lot'], dtype=object)"
      ]
     },
     "execution_count": 17,
     "metadata": {},
     "output_type": "execute_result"
    }
   ],
   "source": [
    "brookes_df.Release_Status.unique()"
   ]
  },
  {
   "cell_type": "code",
   "execution_count": 18,
   "id": "93f2bd0d",
   "metadata": {},
   "outputs": [
    {
     "data": {
      "text/plain": [
       "array(['1307-00222-2017', '1308-00748-1002', '1307-00293-3002', ...,\n",
       "       '1004-00025-0000', '1001-00014-0000', '1003-00052-0000'],\n",
       "      dtype=object)"
      ]
     },
     "execution_count": 18,
     "metadata": {},
     "output_type": "execute_result"
    }
   ],
   "source": [
    "brookes_df.Item_Code.unique()"
   ]
  },
  {
   "cell_type": "code",
   "execution_count": 20,
   "id": "093e056f",
   "metadata": {},
   "outputs": [
    {
     "data": {
      "text/plain": [
       "0         True\n",
       "1        False\n",
       "2        False\n",
       "3        False\n",
       "4        False\n",
       "         ...  \n",
       "19280    False\n",
       "19281    False\n",
       "19282    False\n",
       "19283    False\n",
       "19284    False\n",
       "Name: Item_Code, Length: 19285, dtype: bool"
      ]
     },
     "execution_count": 20,
     "metadata": {},
     "output_type": "execute_result"
    }
   ],
   "source": [
    "bol = brookes_df.Item_Code == \"1307-00222-2017\"\n",
    "bol"
   ]
  },
  {
   "cell_type": "code",
   "execution_count": 40,
   "id": "c7b4d2d1",
   "metadata": {},
   "outputs": [],
   "source": [
    "yr = brookes_df[\"Receiving_Date\"].dt.strftime(\"%Y\")\n",
    "brookes_df[\"Year\"] = yr"
   ]
  },
  {
   "cell_type": "code",
   "execution_count": 51,
   "id": "d6cbbc36",
   "metadata": {},
   "outputs": [],
   "source": [
    "# brookes_df.insert(8, \"Year\", yr, True)\n",
    "# brookes_df.Year = pd.to_datetime(brookes_df[\"Year\"])"
   ]
  },
  {
   "cell_type": "code",
   "execution_count": 53,
   "id": "2e06d062",
   "metadata": {},
   "outputs": [
    {
     "data": {
      "text/html": [
       "<div>\n",
       "<style scoped>\n",
       "    .dataframe tbody tr th:only-of-type {\n",
       "        vertical-align: middle;\n",
       "    }\n",
       "\n",
       "    .dataframe tbody tr th {\n",
       "        vertical-align: top;\n",
       "    }\n",
       "\n",
       "    .dataframe thead th {\n",
       "        text-align: right;\n",
       "    }\n",
       "</style>\n",
       "<table border=\"1\" class=\"dataframe\">\n",
       "  <thead>\n",
       "    <tr style=\"text-align: right;\">\n",
       "      <th></th>\n",
       "      <th>Qty</th>\n",
       "    </tr>\n",
       "    <tr>\n",
       "      <th>Receiving_Date</th>\n",
       "      <th></th>\n",
       "    </tr>\n",
       "  </thead>\n",
       "  <tbody>\n",
       "    <tr>\n",
       "      <th>2022-01-01</th>\n",
       "      <td>200000.000000</td>\n",
       "    </tr>\n",
       "    <tr>\n",
       "      <th>2022-01-03</th>\n",
       "      <td>23840.000000</td>\n",
       "    </tr>\n",
       "    <tr>\n",
       "      <th>2022-01-04</th>\n",
       "      <td>31889.000000</td>\n",
       "    </tr>\n",
       "    <tr>\n",
       "      <th>2022-01-05</th>\n",
       "      <td>29814.000000</td>\n",
       "    </tr>\n",
       "    <tr>\n",
       "      <th>2022-01-06</th>\n",
       "      <td>1389.652194</td>\n",
       "    </tr>\n",
       "    <tr>\n",
       "      <th>...</th>\n",
       "      <td>...</td>\n",
       "    </tr>\n",
       "    <tr>\n",
       "      <th>2023-10-12</th>\n",
       "      <td>1214.246569</td>\n",
       "    </tr>\n",
       "    <tr>\n",
       "      <th>2023-10-13</th>\n",
       "      <td>45411.857143</td>\n",
       "    </tr>\n",
       "    <tr>\n",
       "      <th>2023-10-14</th>\n",
       "      <td>7664.666667</td>\n",
       "    </tr>\n",
       "    <tr>\n",
       "      <th>2023-10-16</th>\n",
       "      <td>24035.322581</td>\n",
       "    </tr>\n",
       "    <tr>\n",
       "      <th>2023-10-17</th>\n",
       "      <td>8592.416667</td>\n",
       "    </tr>\n",
       "  </tbody>\n",
       "</table>\n",
       "<p>508 rows × 1 columns</p>\n",
       "</div>"
      ],
      "text/plain": [
       "                          Qty\n",
       "Receiving_Date               \n",
       "2022-01-01      200000.000000\n",
       "2022-01-03       23840.000000\n",
       "2022-01-04       31889.000000\n",
       "2022-01-05       29814.000000\n",
       "2022-01-06        1389.652194\n",
       "...                       ...\n",
       "2023-10-12        1214.246569\n",
       "2023-10-13       45411.857143\n",
       "2023-10-14        7664.666667\n",
       "2023-10-16       24035.322581\n",
       "2023-10-17        8592.416667\n",
       "\n",
       "[508 rows x 1 columns]"
      ]
     },
     "execution_count": 53,
     "metadata": {},
     "output_type": "execute_result"
    }
   ],
   "source": [
    "pd.pivot_table(brookes_df, index=[\"Receiving_Date\"], values=[\"Qty\"], aggfunc=\"mean\")"
   ]
  },
  {
   "cell_type": "code",
   "execution_count": 21,
   "id": "af354be2",
   "metadata": {},
   "outputs": [],
   "source": [
    "Sticker_Incetax_2017  = brookes_df[bol]"
   ]
  },
  {
   "cell_type": "code",
   "execution_count": 22,
   "id": "1768e1a6",
   "metadata": {},
   "outputs": [
    {
     "data": {
      "text/html": [
       "<div>\n",
       "<style scoped>\n",
       "    .dataframe tbody tr th:only-of-type {\n",
       "        vertical-align: middle;\n",
       "    }\n",
       "\n",
       "    .dataframe tbody tr th {\n",
       "        vertical-align: top;\n",
       "    }\n",
       "\n",
       "    .dataframe thead th {\n",
       "        text-align: right;\n",
       "    }\n",
       "</style>\n",
       "<table border=\"1\" class=\"dataframe\">\n",
       "  <thead>\n",
       "    <tr style=\"text-align: right;\">\n",
       "      <th></th>\n",
       "      <th>Item_Code</th>\n",
       "      <th>Item_Name</th>\n",
       "      <th>Supplier</th>\n",
       "      <th>PO_No.</th>\n",
       "      <th>MRR_No.</th>\n",
       "      <th>Lot_No.</th>\n",
       "      <th>Requested_Date</th>\n",
       "      <th>Receiving_Date</th>\n",
       "      <th>Qty</th>\n",
       "      <th>UOM</th>\n",
       "      <th>Sample_Date</th>\n",
       "      <th>Release_Status</th>\n",
       "      <th>Rel_Rej_Hold_Date</th>\n",
       "    </tr>\n",
       "  </thead>\n",
       "  <tbody>\n",
       "    <tr>\n",
       "      <th>0</th>\n",
       "      <td>1307-00222-2017</td>\n",
       "      <td>STICKER INCETAX 1.00gm INJECTION (EXPORT) C/P ...</td>\n",
       "      <td>SWS (PVT) LIMITED</td>\n",
       "      <td>12611</td>\n",
       "      <td>462</td>\n",
       "      <td>10298</td>\n",
       "      <td>2021-10-30</td>\n",
       "      <td>2022-01-04</td>\n",
       "      <td>53950.0</td>\n",
       "      <td>Numbers</td>\n",
       "      <td>2022-01-07</td>\n",
       "      <td>Released</td>\n",
       "      <td>13-Jan-22</td>\n",
       "    </tr>\n",
       "    <tr>\n",
       "      <th>7</th>\n",
       "      <td>1307-00222-2017</td>\n",
       "      <td>STICKER INCETAX 1.00gm INJECTION (EXPORT) C/P ...</td>\n",
       "      <td>AN TRADERS</td>\n",
       "      <td>13144</td>\n",
       "      <td>470</td>\n",
       "      <td>10457</td>\n",
       "      <td>2021-11-20</td>\n",
       "      <td>2022-02-01</td>\n",
       "      <td>38500.0</td>\n",
       "      <td>Numbers</td>\n",
       "      <td>2022-02-07</td>\n",
       "      <td>Released</td>\n",
       "      <td>7-Feb-22</td>\n",
       "    </tr>\n",
       "    <tr>\n",
       "      <th>9</th>\n",
       "      <td>1307-00222-2017</td>\n",
       "      <td>STICKER INCETAX 1.00gm INJECTION (EXPORT) C/P ...</td>\n",
       "      <td>AN TRADERS</td>\n",
       "      <td>13775</td>\n",
       "      <td>483</td>\n",
       "      <td>10688</td>\n",
       "      <td>2022-03-01</td>\n",
       "      <td>2022-03-10</td>\n",
       "      <td>64900.0</td>\n",
       "      <td>Numbers</td>\n",
       "      <td>2022-04-01</td>\n",
       "      <td>Released</td>\n",
       "      <td>4-Apr-22</td>\n",
       "    </tr>\n",
       "    <tr>\n",
       "      <th>81</th>\n",
       "      <td>1307-00222-2017</td>\n",
       "      <td>STICKER INCETAX 1.00gm INJECTION (EXPORT) C/P ...</td>\n",
       "      <td>AN TRADERS</td>\n",
       "      <td>16906</td>\n",
       "      <td>579</td>\n",
       "      <td>13193</td>\n",
       "      <td>2023-07-10</td>\n",
       "      <td>2023-07-13</td>\n",
       "      <td>25000.0</td>\n",
       "      <td>Numbers</td>\n",
       "      <td>2023-07-14</td>\n",
       "      <td>Released</td>\n",
       "      <td>17-Jul-23</td>\n",
       "    </tr>\n",
       "  </tbody>\n",
       "</table>\n",
       "</div>"
      ],
      "text/plain": [
       "          Item_Code                                          Item_Name  \\\n",
       "0   1307-00222-2017  STICKER INCETAX 1.00gm INJECTION (EXPORT) C/P ...   \n",
       "7   1307-00222-2017  STICKER INCETAX 1.00gm INJECTION (EXPORT) C/P ...   \n",
       "9   1307-00222-2017  STICKER INCETAX 1.00gm INJECTION (EXPORT) C/P ...   \n",
       "81  1307-00222-2017  STICKER INCETAX 1.00gm INJECTION (EXPORT) C/P ...   \n",
       "\n",
       "             Supplier  PO_No.  MRR_No. Lot_No. Requested_Date Receiving_Date  \\\n",
       "0   SWS (PVT) LIMITED   12611      462   10298     2021-10-30     2022-01-04   \n",
       "7          AN TRADERS   13144      470   10457     2021-11-20     2022-02-01   \n",
       "9          AN TRADERS   13775      483   10688     2022-03-01     2022-03-10   \n",
       "81         AN TRADERS   16906      579   13193     2023-07-10     2023-07-13   \n",
       "\n",
       "        Qty      UOM Sample_Date Release_Status Rel_Rej_Hold_Date  \n",
       "0   53950.0  Numbers  2022-01-07       Released         13-Jan-22  \n",
       "7   38500.0  Numbers  2022-02-07       Released          7-Feb-22  \n",
       "9   64900.0  Numbers  2022-04-01       Released          4-Apr-22  \n",
       "81  25000.0  Numbers  2023-07-14       Released         17-Jul-23  "
      ]
     },
     "execution_count": 22,
     "metadata": {},
     "output_type": "execute_result"
    }
   ],
   "source": [
    "Sticker_Incetax_2017"
   ]
  },
  {
   "cell_type": "code",
   "execution_count": 23,
   "id": "b218dce8",
   "metadata": {},
   "outputs": [
    {
     "data": {
      "image/png": "[encoded data removed]",
      "text/plain": [
       "<Figure size 640x480 with 1 Axes>"
      ]
     },
     "metadata": {},
     "output_type": "display_data"
    }
   ],
   "source": [
    "plt.plot(Sticker_Incetax_2017.Receiving_Date, Sticker_Incetax_2017.Qty)\n",
    "plt.show()"
   ]
  },
  {
   "cell_type": "code",
   "execution_count": 24,
   "id": "fdf5b9d5",
   "metadata": {},
   "outputs": [
    {
     "data": {
      "text/plain": [
       "0        False\n",
       "1        False\n",
       "2        False\n",
       "3         True\n",
       "4         True\n",
       "         ...  \n",
       "19280    False\n",
       "19281    False\n",
       "19282    False\n",
       "19283    False\n",
       "19284    False\n",
       "Name: Item_Code, Length: 19285, dtype: bool"
      ]
     },
     "execution_count": 24,
     "metadata": {},
     "output_type": "execute_result"
    }
   ],
   "source": [
    "bol = brookes_df.Item_Code == \"1307-00293-3002\"\n",
    "bol"
   ]
  },
  {
   "cell_type": "code",
   "execution_count": 25,
   "id": "92305648",
   "metadata": {},
   "outputs": [],
   "source": [
    "Sticker_Ryxon_3002 = brookes_df[bol]"
   ]
  },
  {
   "cell_type": "code",
   "execution_count": 26,
   "id": "d9eb3cec",
   "metadata": {},
   "outputs": [
    {
     "data": {
      "text/plain": [
       "(8, 13)"
      ]
     },
     "execution_count": 26,
     "metadata": {},
     "output_type": "execute_result"
    }
   ],
   "source": [
    "Sticker_Ryxon_3002.shape"
   ]
  },
  {
   "cell_type": "code",
   "execution_count": 27,
   "id": "8899f67b",
   "metadata": {},
   "outputs": [
    {
     "data": {
      "image/png": "[encoded data removed]",
      "text/plain": [
       "<Figure size 640x480 with 1 Axes>"
      ]
     },
     "metadata": {},
     "output_type": "display_data"
    }
   ],
   "source": [
    "plt.plot(Sticker_Ryxon_3002.Receiving_Date, Sticker_Ryxon_3002.Qty)\n",
    "plt.show()"
   ]
  },
  {
   "cell_type": "code",
   "execution_count": 28,
   "id": "f0c743bd",
   "metadata": {},
   "outputs": [
    {
     "data": {
      "text/plain": [
       "0        False\n",
       "1        False\n",
       "2        False\n",
       "3        False\n",
       "4        False\n",
       "         ...  \n",
       "19280    False\n",
       "19281     True\n",
       "19282     True\n",
       "19283    False\n",
       "19284    False\n",
       "Name: Item_Code, Length: 19285, dtype: bool"
      ]
     },
     "execution_count": 28,
     "metadata": {},
     "output_type": "execute_result"
    }
   ],
   "source": [
    "bol = brookes_df.Item_Code == \"1001-00071-0000\"\n",
    "bol"
   ]
  },
  {
   "cell_type": "code",
   "execution_count": 29,
   "id": "cd8c71db",
   "metadata": {},
   "outputs": [
    {
     "data": {
      "text/plain": [
       "(74, 13)"
      ]
     },
     "execution_count": 29,
     "metadata": {},
     "output_type": "execute_result"
    }
   ],
   "source": [
    "Pvp_Iodine = brookes_df[bol]\n",
    "Pvp_Iodine.shape"
   ]
  },
  {
   "cell_type": "code",
   "execution_count": 30,
   "id": "aa518087",
   "metadata": {},
   "outputs": [
    {
     "data": {
      "image/png": "[encoded data removed]",
      "text/plain": [
       "<Figure size 640x480 with 1 Axes>"
      ]
     },
     "metadata": {},
     "output_type": "display_data"
    }
   ],
   "source": [
    "plt.plot(Pvp_Iodine.Receiving_Date, Pvp_Iodine.Qty)\n",
    "plt.show()"
   ]
  },
  {
   "cell_type": "markdown",
   "id": "94a1d6a0-838c-4d42-b066-4033db234558",
   "metadata": {},
   "source": [
    "# How to deal with enormous data set"
   ]
  },
  {
   "cell_type": "code",
   "execution_count": 31,
   "id": "99a56562-4d2b-444e-bc64-90c5caba0802",
   "metadata": {},
   "outputs": [
    {
     "name": "stdout",
     "output_type": "stream",
     "text": [
      "File loaded in 1.2479639053344727\n",
      "Data Shape: (1048575, 5)\n"
     ]
    }
   ],
   "source": [
    "import pandas as pd\n",
    "import time\n",
    "\n",
    "start = time.time()\n",
    "data = pd.read_csv(\"historical/Historical Product Demand.csv\")\n",
    "print(\"File loaded in {}\".format(time.time()-start))\n",
    "print(\"Data Shape: {}\".format(data.shape))"
   ]
  },
  {
   "cell_type": "markdown",
   "id": "42e41b12-71cb-4f71-b1e3-e6b3ab9bccfe",
   "metadata": {},
   "source": [
    "## Solution No. 1 (Focus on relevant data)\n",
    "\n"
   ]
  },
  {
   "cell_type": "code",
   "execution_count": 32,
   "id": "577e75c3-a725-4297-9a14-ae230fba20b3",
   "metadata": {},
   "outputs": [
    {
     "data": {
      "text/plain": [
       "Index(['Product_Code', 'Warehouse', 'Product_Category', 'Date',\n",
       "       'Order_Demand'],\n",
       "      dtype='object')"
      ]
     },
     "execution_count": 32,
     "metadata": {},
     "output_type": "execute_result"
    }
   ],
   "source": [
    "data.columns"
   ]
  },
  {
   "cell_type": "code",
   "execution_count": 33,
   "id": "ab5e6573-3a1d-428a-a335-e44a923d1b43",
   "metadata": {},
   "outputs": [
    {
     "name": "stdout",
     "output_type": "stream",
     "text": [
      "File loaded in 1.0868868827819824\n",
      "Data Shape: (1048575, 3)\n"
     ]
    }
   ],
   "source": [
    "import pandas as pd\n",
    "import time\n",
    "\n",
    "start = time.time()\n",
    "data = pd.read_csv(\"historical/Historical Product Demand.csv\",\n",
    "                   usecols=[\"Product_Category\",\"Date\", \"Order_Demand\" ]\n",
    ")\n",
    "print(\"File loaded in {}\".format(time.time()-start))\n",
    "print(\"Data Shape: {}\".format(data.shape))"
   ]
  },
  {
   "cell_type": "markdown",
   "id": "392f010e-6f32-47c6-8faf-f9c2312db425",
   "metadata": {},
   "source": [
    "## Solution No. 2 (Load data in small chunks)\n",
    "* This process is also known as batching (means load bit by bit)"
   ]
  },
  {
   "cell_type": "code",
   "execution_count": 34,
   "id": "aade7bcc-b31b-404f-940d-0b9fc61b76cc",
   "metadata": {},
   "outputs": [
    {
     "name": "stdout",
     "output_type": "stream",
     "text": [
      "110\n",
      "File loaded in 0.030982494354248047\n"
     ]
    },
    {
     "name": "stderr",
     "output_type": "stream",
     "text": [
      "C:\\Users\\atif\\AppData\\Local\\Temp\\ipykernel_11864\\1328889610.py:13: SettingWithCopyWarning: \n",
      "A value is trying to be set on a copy of a slice from a DataFrame\n",
      "\n",
      "See the caveats in the documentation: https://pandas.pydata.org/pandas-docs/stable/user_guide/indexing.html#returning-a-view-versus-a-copy\n",
      "  df[\"Order_Demand\"][0] = 110\n"
     ]
    }
   ],
   "source": [
    "import pandas as pd\n",
    "import time\n",
    "\n",
    "start = time.time()\n",
    "data = pd.read_csv(\"historical/Historical Product Demand.csv\",\n",
    "                   usecols=[\"Product_Category\",\"Date\", \"Order_Demand\" ],\n",
    "                   chunksize=10\n",
    ")\n",
    "\n",
    "for index, chunk in enumerate(data):\n",
    "    if index == 0:\n",
    "        df = pd.DataFrame(chunk)\n",
    "        df[\"Order_Demand\"][0] = 110\n",
    "        print(df[\"Order_Demand\"][0])\n",
    "        # print(chunk) # This would be textfile output readonly\n",
    "    else:\n",
    "        break\n",
    "        \n",
    "print(\"File loaded in {}\".format(time.time()-start))\n",
    "# print(\"Data Shape: {}\".format(data.shape))\n",
    "# As we are splitting the data and we are no longer to dealing with dataframe object.\n",
    "# but with something call text file reader\n",
    "# that's why all the attribues and methods associated with the dataframe\n",
    "# are no longer relevant to our varible data."
   ]
  },
  {
   "cell_type": "markdown",
   "id": "af28b9b4-f8f4-4f5e-966a-210b96ab62b1",
   "metadata": {},
   "source": [
    "## Solution No. 2 (Save modified data to new CSV)"
   ]
  },
  {
   "cell_type": "code",
   "execution_count": 35,
   "id": "408c0d7d-733e-41ff-a787-f4b86723fec9",
   "metadata": {},
   "outputs": [
    {
     "name": "stdout",
     "output_type": "stream",
     "text": [
      "File loaded in 4.902644872665405\n",
      "Data Shape: (1048575, 3)\n"
     ]
    }
   ],
   "source": [
    "import pandas as pd\n",
    "import time\n",
    "\n",
    "start = time.time()\n",
    "data = pd.read_csv(\"historical/Historical Product Demand.csv\",\n",
    "                   usecols=[\"Product_Category\",\"Date\", \"Order_Demand\" ]\n",
    ")\n",
    "\n",
    "data.to_csv(\"modified_data.csv\", encoding=\"utf-8\", index=False) \n",
    "        \n",
    "print(\"File loaded in {}\".format(time.time()-start))\n",
    "print(\"Data Shape: {}\".format(data.shape))"
   ]
  },
  {
   "cell_type": "code",
   "execution_count": 36,
   "id": "4e884e46-7cfd-48ba-8661-f6059fc646c3",
   "metadata": {},
   "outputs": [
    {
     "name": "stdout",
     "output_type": "stream",
     "text": [
      "File loaded in 0.9054429531097412\n",
      "Data Shape: (1048575, 3)\n"
     ]
    }
   ],
   "source": [
    "start = time.time()\n",
    "new_data =pd.read_csv(\"modified_data.csv\")\n",
    "print(\"File loaded in {}\".format(time.time()-start))\n",
    "print(\"Data Shape: {}\".format(new_data.shape))"
   ]
  },
  {
   "cell_type": "code",
   "execution_count": 43,
   "id": "26ea310e-1477-419a-bfc9-60f559688a27",
   "metadata": {},
   "outputs": [
    {
     "data": {
      "text/html": [
       "<div>\n",
       "<style scoped>\n",
       "    .dataframe tbody tr th:only-of-type {\n",
       "        vertical-align: middle;\n",
       "    }\n",
       "\n",
       "    .dataframe tbody tr th {\n",
       "        vertical-align: top;\n",
       "    }\n",
       "\n",
       "    .dataframe thead th {\n",
       "        text-align: right;\n",
       "    }\n",
       "</style>\n",
       "<table border=\"1\" class=\"dataframe\">\n",
       "  <thead>\n",
       "    <tr style=\"text-align: right;\">\n",
       "      <th></th>\n",
       "      <th>Product_Category</th>\n",
       "      <th>Date</th>\n",
       "      <th>Order_Demand</th>\n",
       "    </tr>\n",
       "  </thead>\n",
       "  <tbody>\n",
       "    <tr>\n",
       "      <th>0</th>\n",
       "      <td>Category_028</td>\n",
       "      <td>2012/7/27</td>\n",
       "      <td>100</td>\n",
       "    </tr>\n",
       "    <tr>\n",
       "      <th>1</th>\n",
       "      <td>Category_028</td>\n",
       "      <td>2012/1/19</td>\n",
       "      <td>500</td>\n",
       "    </tr>\n",
       "    <tr>\n",
       "      <th>2</th>\n",
       "      <td>Category_028</td>\n",
       "      <td>2012/2/3</td>\n",
       "      <td>500</td>\n",
       "    </tr>\n",
       "    <tr>\n",
       "      <th>3</th>\n",
       "      <td>Category_028</td>\n",
       "      <td>2012/2/9</td>\n",
       "      <td>500</td>\n",
       "    </tr>\n",
       "    <tr>\n",
       "      <th>4</th>\n",
       "      <td>Category_028</td>\n",
       "      <td>2012/3/2</td>\n",
       "      <td>500</td>\n",
       "    </tr>\n",
       "  </tbody>\n",
       "</table>\n",
       "</div>"
      ],
      "text/plain": [
       "  Product_Category       Date Order_Demand\n",
       "0     Category_028  2012/7/27         100 \n",
       "1     Category_028  2012/1/19         500 \n",
       "2     Category_028   2012/2/3         500 \n",
       "3     Category_028   2012/2/9         500 \n",
       "4     Category_028   2012/3/2         500 "
      ]
     },
     "execution_count": 43,
     "metadata": {},
     "output_type": "execute_result"
    }
   ],
   "source": [
    "new_data.head()"
   ]
  },
  {
   "cell_type": "code",
   "execution_count": 45,
   "id": "241547be-c096-452a-9051-d70fa54a6e04",
   "metadata": {},
   "outputs": [],
   "source": [
    "new_data.Date = pd.to_datetime(new_data[\"Date\"])"
   ]
  },
  {
   "cell_type": "code",
   "execution_count": 46,
   "id": "be1fdc4e-e106-4dbb-9dda-54e8ef026a59",
   "metadata": {},
   "outputs": [
    {
     "name": "stdout",
     "output_type": "stream",
     "text": [
      "<class 'pandas.core.frame.DataFrame'>\n",
      "RangeIndex: 1048575 entries, 0 to 1048574\n",
      "Data columns (total 3 columns):\n",
      " #   Column            Non-Null Count    Dtype         \n",
      "---  ------            --------------    -----         \n",
      " 0   Product_Category  1048575 non-null  object        \n",
      " 1   Date              1037336 non-null  datetime64[ns]\n",
      " 2   Order_Demand      1048575 non-null  object        \n",
      "dtypes: datetime64[ns](1), object(2)\n",
      "memory usage: 24.0+ MB\n"
     ]
    }
   ],
   "source": [
    "new_data.info()"
   ]
  },
  {
   "cell_type": "code",
   "execution_count": 47,
   "id": "35474685-f178-490d-93e9-41c92f1abf72",
   "metadata": {},
   "outputs": [
    {
     "data": {
      "text/html": [
       "<div>\n",
       "<style scoped>\n",
       "    .dataframe tbody tr th:only-of-type {\n",
       "        vertical-align: middle;\n",
       "    }\n",
       "\n",
       "    .dataframe tbody tr th {\n",
       "        vertical-align: top;\n",
       "    }\n",
       "\n",
       "    .dataframe thead th {\n",
       "        text-align: right;\n",
       "    }\n",
       "</style>\n",
       "<table border=\"1\" class=\"dataframe\">\n",
       "  <thead>\n",
       "    <tr style=\"text-align: right;\">\n",
       "      <th></th>\n",
       "      <th>Product_Category</th>\n",
       "      <th>Date</th>\n",
       "      <th>Order_Demand</th>\n",
       "    </tr>\n",
       "  </thead>\n",
       "  <tbody>\n",
       "    <tr>\n",
       "      <th>0</th>\n",
       "      <td>Category_028</td>\n",
       "      <td>2012-07-27</td>\n",
       "      <td>100</td>\n",
       "    </tr>\n",
       "    <tr>\n",
       "      <th>1</th>\n",
       "      <td>Category_028</td>\n",
       "      <td>2012-01-19</td>\n",
       "      <td>500</td>\n",
       "    </tr>\n",
       "    <tr>\n",
       "      <th>2</th>\n",
       "      <td>Category_028</td>\n",
       "      <td>2012-02-03</td>\n",
       "      <td>500</td>\n",
       "    </tr>\n",
       "    <tr>\n",
       "      <th>3</th>\n",
       "      <td>Category_028</td>\n",
       "      <td>2012-02-09</td>\n",
       "      <td>500</td>\n",
       "    </tr>\n",
       "    <tr>\n",
       "      <th>4</th>\n",
       "      <td>Category_028</td>\n",
       "      <td>2012-03-02</td>\n",
       "      <td>500</td>\n",
       "    </tr>\n",
       "    <tr>\n",
       "      <th>...</th>\n",
       "      <td>...</td>\n",
       "      <td>...</td>\n",
       "      <td>...</td>\n",
       "    </tr>\n",
       "    <tr>\n",
       "      <th>1048570</th>\n",
       "      <td>Category_006</td>\n",
       "      <td>2016-04-27</td>\n",
       "      <td>1000</td>\n",
       "    </tr>\n",
       "    <tr>\n",
       "      <th>1048571</th>\n",
       "      <td>Category_006</td>\n",
       "      <td>2016-04-27</td>\n",
       "      <td>1</td>\n",
       "    </tr>\n",
       "    <tr>\n",
       "      <th>1048572</th>\n",
       "      <td>Category_006</td>\n",
       "      <td>2016-04-28</td>\n",
       "      <td>2500</td>\n",
       "    </tr>\n",
       "    <tr>\n",
       "      <th>1048573</th>\n",
       "      <td>Category_023</td>\n",
       "      <td>2016-10-07</td>\n",
       "      <td>50</td>\n",
       "    </tr>\n",
       "    <tr>\n",
       "      <th>1048574</th>\n",
       "      <td>Category_001</td>\n",
       "      <td>2016-06-27</td>\n",
       "      <td>4</td>\n",
       "    </tr>\n",
       "  </tbody>\n",
       "</table>\n",
       "<p>1048575 rows × 3 columns</p>\n",
       "</div>"
      ],
      "text/plain": [
       "        Product_Category       Date Order_Demand\n",
       "0           Category_028 2012-07-27         100 \n",
       "1           Category_028 2012-01-19         500 \n",
       "2           Category_028 2012-02-03         500 \n",
       "3           Category_028 2012-02-09         500 \n",
       "4           Category_028 2012-03-02         500 \n",
       "...                  ...        ...          ...\n",
       "1048570     Category_006 2016-04-27        1000 \n",
       "1048571     Category_006 2016-04-27           1 \n",
       "1048572     Category_006 2016-04-28        2500 \n",
       "1048573     Category_023 2016-10-07          50 \n",
       "1048574     Category_001 2016-06-27           4 \n",
       "\n",
       "[1048575 rows x 3 columns]"
      ]
     },
     "execution_count": 47,
     "metadata": {},
     "output_type": "execute_result"
    }
   ],
   "source": [
    "new_data"
   ]
  },
  {
   "cell_type": "code",
   "execution_count": 55,
   "id": "419a6311-ab46-4276-b397-a5b576e4f71c",
   "metadata": {},
   "outputs": [
    {
     "data": {
      "image/png": "[encoded data removed]",
      "text/plain": [
       "<Figure size 640x480 with 1 Axes>"
      ]
     },
     "metadata": {},
     "output_type": "display_data"
    }
   ],
   "source": [
    "bol = new_data.Product_Category == \"Category_006\"\n",
    "\n",
    "cat_006 = new_data[bol]\n",
    "\n",
    "plt.plot(cat_006.Date, cat_006.Order_Demand)\n",
    "plt.show()"
   ]
  },
  {
   "cell_type": "code",
   "execution_count": null,
   "id": "3a07b6a1-ff15-47e6-b522-1ef99e1c4363",
   "metadata": {},
   "outputs": [],
   "source": []
  }
 ],
 "metadata": {
  "kernelspec": {
   "display_name": "Python 3 (ipykernel)",
   "language": "python",
   "name": "python3"
  },
  "language_info": {
   "codemirror_mode": {
    "name": "ipython",
    "version": 3
   },
   "file_extension": ".py",
   "mimetype": "text/x-python",
   "name": "python",
   "nbconvert_exporter": "python",
   "pygments_lexer": "ipython3",
   "version": "3.11.7"
  }
 },
 "nbformat": 4,
 "nbformat_minor": 5
}
