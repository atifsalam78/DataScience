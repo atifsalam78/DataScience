{
 "cells": [
  {
   "cell_type": "code",
   "execution_count": 1,
   "id": "c11726d8",
   "metadata": {},
   "outputs": [],
   "source": [
    "import pandas as pd\n",
    "import numpy as np\n",
    "import matplotlib.pyplot as plt"
   ]
  },
  {
   "cell_type": "code",
   "execution_count": 2,
   "id": "d903ff8a",
   "metadata": {},
   "outputs": [
    {
     "data": {
      "text/html": [
       "<div>\n",
       "<style scoped>\n",
       "    .dataframe tbody tr th:only-of-type {\n",
       "        vertical-align: middle;\n",
       "    }\n",
       "\n",
       "    .dataframe tbody tr th {\n",
       "        vertical-align: top;\n",
       "    }\n",
       "\n",
       "    .dataframe thead th {\n",
       "        text-align: right;\n",
       "    }\n",
       "</style>\n",
       "<table border=\"1\" class=\"dataframe\">\n",
       "  <thead>\n",
       "    <tr style=\"text-align: right;\">\n",
       "      <th></th>\n",
       "      <th>Month</th>\n",
       "      <th>New_deaths</th>\n",
       "    </tr>\n",
       "  </thead>\n",
       "  <tbody>\n",
       "    <tr>\n",
       "      <th>0</th>\n",
       "      <td>1</td>\n",
       "      <td>0</td>\n",
       "    </tr>\n",
       "    <tr>\n",
       "      <th>1</th>\n",
       "      <td>2</td>\n",
       "      <td>0</td>\n",
       "    </tr>\n",
       "    <tr>\n",
       "      <th>2</th>\n",
       "      <td>3</td>\n",
       "      <td>77</td>\n",
       "    </tr>\n",
       "    <tr>\n",
       "      <th>3</th>\n",
       "      <td>4</td>\n",
       "      <td>1844</td>\n",
       "    </tr>\n",
       "    <tr>\n",
       "      <th>4</th>\n",
       "      <td>5</td>\n",
       "      <td>1448</td>\n",
       "    </tr>\n",
       "    <tr>\n",
       "      <th>5</th>\n",
       "      <td>6</td>\n",
       "      <td>785</td>\n",
       "    </tr>\n",
       "    <tr>\n",
       "      <th>6</th>\n",
       "      <td>7</td>\n",
       "      <td>769</td>\n",
       "    </tr>\n",
       "    <tr>\n",
       "      <th>7</th>\n",
       "      <td>8</td>\n",
       "      <td>1020</td>\n",
       "    </tr>\n",
       "    <tr>\n",
       "      <th>8</th>\n",
       "      <td>9</td>\n",
       "      <td>739</td>\n",
       "    </tr>\n",
       "    <tr>\n",
       "      <th>9</th>\n",
       "      <td>10</td>\n",
       "      <td>751</td>\n",
       "    </tr>\n",
       "    <tr>\n",
       "      <th>10</th>\n",
       "      <td>11</td>\n",
       "      <td>1225</td>\n",
       "    </tr>\n",
       "    <tr>\n",
       "      <th>11</th>\n",
       "      <td>12</td>\n",
       "      <td>2247</td>\n",
       "    </tr>\n",
       "  </tbody>\n",
       "</table>\n",
       "</div>"
      ],
      "text/plain": [
       "    Month  New_deaths\n",
       "0       1           0\n",
       "1       2           0\n",
       "2       3          77\n",
       "3       4        1844\n",
       "4       5        1448\n",
       "5       6         785\n",
       "6       7         769\n",
       "7       8        1020\n",
       "8       9         739\n",
       "9      10         751\n",
       "10     11        1225\n",
       "11     12        2247"
      ]
     },
     "execution_count": 2,
     "metadata": {},
     "output_type": "execute_result"
    }
   ],
   "source": [
    "deaths = pd.read_csv(\"avg_deaths.csv\") # 1st January to 15 December 2020\n",
    "deaths"
   ]
  },
  {
   "cell_type": "code",
   "execution_count": 3,
   "id": "0eee6b9b",
   "metadata": {},
   "outputs": [],
   "source": [
    "deaths[\"Year\"] = 2020"
   ]
  },
  {
   "cell_type": "code",
   "execution_count": 4,
   "id": "9a3748cb",
   "metadata": {},
   "outputs": [],
   "source": [
    "import calendar"
   ]
  },
  {
   "cell_type": "code",
   "execution_count": 5,
   "id": "de312da9",
   "metadata": {},
   "outputs": [
    {
     "data": {
      "text/plain": [
       "(2, 31)"
      ]
     },
     "execution_count": 5,
     "metadata": {},
     "output_type": "execute_result"
    }
   ],
   "source": [
    "calendar.monthrange(2020, 1)"
   ]
  },
  {
   "cell_type": "code",
   "execution_count": 6,
   "id": "291c7f32",
   "metadata": {},
   "outputs": [
    {
     "data": {
      "text/plain": [
       "31"
      ]
     },
     "execution_count": 6,
     "metadata": {},
     "output_type": "execute_result"
    }
   ],
   "source": [
    "_, num_days = calendar.monthrange(2020, 1)\n",
    "num_days"
   ]
  },
  {
   "cell_type": "code",
   "execution_count": 7,
   "id": "b589fa08",
   "metadata": {},
   "outputs": [
    {
     "data": {
      "text/plain": [
       "1"
      ]
     },
     "execution_count": 7,
     "metadata": {},
     "output_type": "execute_result"
    }
   ],
   "source": [
    "deaths.iloc[0][\"Month\"]"
   ]
  },
  {
   "cell_type": "code",
   "execution_count": 5,
   "id": "749970d1",
   "metadata": {},
   "outputs": [
    {
     "data": {
      "text/plain": [
       "28"
      ]
     },
     "execution_count": 5,
     "metadata": {},
     "output_type": "execute_result"
    }
   ],
   "source": [
    "def days(year, month):\n",
    "    _, num_days = calendar.monthrange(year, month)\n",
    "    return num_days\n",
    "\n",
    "days(2021, 2)"
   ]
  },
  {
   "cell_type": "code",
   "execution_count": 6,
   "id": "2b493a7c",
   "metadata": {},
   "outputs": [],
   "source": [
    "days = (deaths[[\"Year\", \"Month\"]]).apply(lambda row: days(row[\"Year\"], row[\"Month\"]), axis=1)\n",
    "\n",
    "#by default apply on x-axis means rows"
   ]
  },
  {
   "cell_type": "code",
   "execution_count": 10,
   "id": "7a5000c4",
   "metadata": {},
   "outputs": [
    {
     "data": {
      "text/plain": [
       "0     31\n",
       "1     29\n",
       "2     31\n",
       "3     30\n",
       "4     31\n",
       "5     30\n",
       "6     31\n",
       "7     31\n",
       "8     30\n",
       "9     31\n",
       "10    30\n",
       "11    31\n",
       "dtype: int32"
      ]
     },
     "execution_count": 10,
     "metadata": {},
     "output_type": "execute_result"
    }
   ],
   "source": [
    "days"
   ]
  },
  {
   "cell_type": "code",
   "execution_count": 11,
   "id": "0a4f1de6",
   "metadata": {},
   "outputs": [],
   "source": [
    "deaths[\"num_days\"] = 0"
   ]
  },
  {
   "cell_type": "code",
   "execution_count": 12,
   "id": "23781f7b",
   "metadata": {},
   "outputs": [
    {
     "data": {
      "text/plain": [
       "Index(['Month', 'New_deaths', 'Year', 'num_days'], dtype='object')"
      ]
     },
     "execution_count": 12,
     "metadata": {},
     "output_type": "execute_result"
    }
   ],
   "source": [
    "deaths.columns"
   ]
  },
  {
   "cell_type": "code",
   "execution_count": 13,
   "id": "1b44110e",
   "metadata": {},
   "outputs": [],
   "source": [
    "deaths = deaths[[\"Year\", \"Month\", \"num_days\", \"New_deaths\"]] # Rearrange columns"
   ]
  },
  {
   "cell_type": "code",
   "execution_count": 14,
   "id": "d8ef2262",
   "metadata": {},
   "outputs": [],
   "source": [
    "deaths.columns = [\"Year\", \"Month\", \"Num_Days\", \"New_Deaths\"] # Rename column names"
   ]
  },
  {
   "cell_type": "code",
   "execution_count": 15,
   "id": "ec44af06",
   "metadata": {},
   "outputs": [],
   "source": [
    "deaths.Num_Days = days"
   ]
  },
  {
   "cell_type": "code",
   "execution_count": 16,
   "id": "1abdc017",
   "metadata": {},
   "outputs": [
    {
     "data": {
      "text/html": [
       "<div>\n",
       "<style scoped>\n",
       "    .dataframe tbody tr th:only-of-type {\n",
       "        vertical-align: middle;\n",
       "    }\n",
       "\n",
       "    .dataframe tbody tr th {\n",
       "        vertical-align: top;\n",
       "    }\n",
       "\n",
       "    .dataframe thead th {\n",
       "        text-align: right;\n",
       "    }\n",
       "</style>\n",
       "<table border=\"1\" class=\"dataframe\">\n",
       "  <thead>\n",
       "    <tr style=\"text-align: right;\">\n",
       "      <th></th>\n",
       "      <th>Year</th>\n",
       "      <th>Month</th>\n",
       "      <th>Num_Days</th>\n",
       "      <th>New_Deaths</th>\n",
       "    </tr>\n",
       "  </thead>\n",
       "  <tbody>\n",
       "    <tr>\n",
       "      <th>0</th>\n",
       "      <td>2020</td>\n",
       "      <td>1</td>\n",
       "      <td>31</td>\n",
       "      <td>0</td>\n",
       "    </tr>\n",
       "    <tr>\n",
       "      <th>1</th>\n",
       "      <td>2020</td>\n",
       "      <td>2</td>\n",
       "      <td>29</td>\n",
       "      <td>0</td>\n",
       "    </tr>\n",
       "    <tr>\n",
       "      <th>2</th>\n",
       "      <td>2020</td>\n",
       "      <td>3</td>\n",
       "      <td>31</td>\n",
       "      <td>77</td>\n",
       "    </tr>\n",
       "    <tr>\n",
       "      <th>3</th>\n",
       "      <td>2020</td>\n",
       "      <td>4</td>\n",
       "      <td>30</td>\n",
       "      <td>1844</td>\n",
       "    </tr>\n",
       "    <tr>\n",
       "      <th>4</th>\n",
       "      <td>2020</td>\n",
       "      <td>5</td>\n",
       "      <td>31</td>\n",
       "      <td>1448</td>\n",
       "    </tr>\n",
       "    <tr>\n",
       "      <th>5</th>\n",
       "      <td>2020</td>\n",
       "      <td>6</td>\n",
       "      <td>30</td>\n",
       "      <td>785</td>\n",
       "    </tr>\n",
       "    <tr>\n",
       "      <th>6</th>\n",
       "      <td>2020</td>\n",
       "      <td>7</td>\n",
       "      <td>31</td>\n",
       "      <td>769</td>\n",
       "    </tr>\n",
       "    <tr>\n",
       "      <th>7</th>\n",
       "      <td>2020</td>\n",
       "      <td>8</td>\n",
       "      <td>31</td>\n",
       "      <td>1020</td>\n",
       "    </tr>\n",
       "    <tr>\n",
       "      <th>8</th>\n",
       "      <td>2020</td>\n",
       "      <td>9</td>\n",
       "      <td>30</td>\n",
       "      <td>739</td>\n",
       "    </tr>\n",
       "    <tr>\n",
       "      <th>9</th>\n",
       "      <td>2020</td>\n",
       "      <td>10</td>\n",
       "      <td>31</td>\n",
       "      <td>751</td>\n",
       "    </tr>\n",
       "    <tr>\n",
       "      <th>10</th>\n",
       "      <td>2020</td>\n",
       "      <td>11</td>\n",
       "      <td>30</td>\n",
       "      <td>1225</td>\n",
       "    </tr>\n",
       "    <tr>\n",
       "      <th>11</th>\n",
       "      <td>2020</td>\n",
       "      <td>12</td>\n",
       "      <td>31</td>\n",
       "      <td>2247</td>\n",
       "    </tr>\n",
       "  </tbody>\n",
       "</table>\n",
       "</div>"
      ],
      "text/plain": [
       "    Year  Month  Num_Days  New_Deaths\n",
       "0   2020      1        31           0\n",
       "1   2020      2        29           0\n",
       "2   2020      3        31          77\n",
       "3   2020      4        30        1844\n",
       "4   2020      5        31        1448\n",
       "5   2020      6        30         785\n",
       "6   2020      7        31         769\n",
       "7   2020      8        31        1020\n",
       "8   2020      9        30         739\n",
       "9   2020     10        31         751\n",
       "10  2020     11        30        1225\n",
       "11  2020     12        31        2247"
      ]
     },
     "execution_count": 16,
     "metadata": {},
     "output_type": "execute_result"
    }
   ],
   "source": [
    "deaths"
   ]
  },
  {
   "cell_type": "code",
   "execution_count": 17,
   "id": "b5ab339e",
   "metadata": {},
   "outputs": [],
   "source": [
    "# deaths.loc[11, \"Num_Days\"] //= 2 # Because data is for only till 15th December 2020"
   ]
  },
  {
   "cell_type": "code",
   "execution_count": 18,
   "id": "f4c9bab4",
   "metadata": {},
   "outputs": [],
   "source": [
    "deaths.iloc[11, 2] //= 2 # Above and this give same result"
   ]
  },
  {
   "cell_type": "code",
   "execution_count": 19,
   "id": "a4c9df75",
   "metadata": {},
   "outputs": [
    {
     "data": {
      "text/html": [
       "<div>\n",
       "<style scoped>\n",
       "    .dataframe tbody tr th:only-of-type {\n",
       "        vertical-align: middle;\n",
       "    }\n",
       "\n",
       "    .dataframe tbody tr th {\n",
       "        vertical-align: top;\n",
       "    }\n",
       "\n",
       "    .dataframe thead th {\n",
       "        text-align: right;\n",
       "    }\n",
       "</style>\n",
       "<table border=\"1\" class=\"dataframe\">\n",
       "  <thead>\n",
       "    <tr style=\"text-align: right;\">\n",
       "      <th></th>\n",
       "      <th>Year</th>\n",
       "      <th>Month</th>\n",
       "      <th>Num_Days</th>\n",
       "      <th>New_Deaths</th>\n",
       "    </tr>\n",
       "  </thead>\n",
       "  <tbody>\n",
       "    <tr>\n",
       "      <th>0</th>\n",
       "      <td>2020</td>\n",
       "      <td>1</td>\n",
       "      <td>31</td>\n",
       "      <td>0</td>\n",
       "    </tr>\n",
       "    <tr>\n",
       "      <th>1</th>\n",
       "      <td>2020</td>\n",
       "      <td>2</td>\n",
       "      <td>29</td>\n",
       "      <td>0</td>\n",
       "    </tr>\n",
       "    <tr>\n",
       "      <th>2</th>\n",
       "      <td>2020</td>\n",
       "      <td>3</td>\n",
       "      <td>31</td>\n",
       "      <td>77</td>\n",
       "    </tr>\n",
       "    <tr>\n",
       "      <th>3</th>\n",
       "      <td>2020</td>\n",
       "      <td>4</td>\n",
       "      <td>30</td>\n",
       "      <td>1844</td>\n",
       "    </tr>\n",
       "    <tr>\n",
       "      <th>4</th>\n",
       "      <td>2020</td>\n",
       "      <td>5</td>\n",
       "      <td>31</td>\n",
       "      <td>1448</td>\n",
       "    </tr>\n",
       "    <tr>\n",
       "      <th>5</th>\n",
       "      <td>2020</td>\n",
       "      <td>6</td>\n",
       "      <td>30</td>\n",
       "      <td>785</td>\n",
       "    </tr>\n",
       "    <tr>\n",
       "      <th>6</th>\n",
       "      <td>2020</td>\n",
       "      <td>7</td>\n",
       "      <td>31</td>\n",
       "      <td>769</td>\n",
       "    </tr>\n",
       "    <tr>\n",
       "      <th>7</th>\n",
       "      <td>2020</td>\n",
       "      <td>8</td>\n",
       "      <td>31</td>\n",
       "      <td>1020</td>\n",
       "    </tr>\n",
       "    <tr>\n",
       "      <th>8</th>\n",
       "      <td>2020</td>\n",
       "      <td>9</td>\n",
       "      <td>30</td>\n",
       "      <td>739</td>\n",
       "    </tr>\n",
       "    <tr>\n",
       "      <th>9</th>\n",
       "      <td>2020</td>\n",
       "      <td>10</td>\n",
       "      <td>31</td>\n",
       "      <td>751</td>\n",
       "    </tr>\n",
       "    <tr>\n",
       "      <th>10</th>\n",
       "      <td>2020</td>\n",
       "      <td>11</td>\n",
       "      <td>30</td>\n",
       "      <td>1225</td>\n",
       "    </tr>\n",
       "    <tr>\n",
       "      <th>11</th>\n",
       "      <td>2020</td>\n",
       "      <td>12</td>\n",
       "      <td>15</td>\n",
       "      <td>2247</td>\n",
       "    </tr>\n",
       "  </tbody>\n",
       "</table>\n",
       "</div>"
      ],
      "text/plain": [
       "    Year  Month  Num_Days  New_Deaths\n",
       "0   2020      1        31           0\n",
       "1   2020      2        29           0\n",
       "2   2020      3        31          77\n",
       "3   2020      4        30        1844\n",
       "4   2020      5        31        1448\n",
       "5   2020      6        30         785\n",
       "6   2020      7        31         769\n",
       "7   2020      8        31        1020\n",
       "8   2020      9        30         739\n",
       "9   2020     10        31         751\n",
       "10  2020     11        30        1225\n",
       "11  2020     12        15        2247"
      ]
     },
     "execution_count": 19,
     "metadata": {},
     "output_type": "execute_result"
    }
   ],
   "source": [
    "deaths"
   ]
  },
  {
   "cell_type": "code",
   "execution_count": 20,
   "id": "df3bed43",
   "metadata": {},
   "outputs": [],
   "source": [
    "deaths.rename({\"New_Deaths\": \"Avg_Deaths\"}, axis=1, inplace=True)"
   ]
  },
  {
   "cell_type": "code",
   "execution_count": 21,
   "id": "c11c4be7",
   "metadata": {},
   "outputs": [
    {
     "data": {
      "text/html": [
       "<div>\n",
       "<style scoped>\n",
       "    .dataframe tbody tr th:only-of-type {\n",
       "        vertical-align: middle;\n",
       "    }\n",
       "\n",
       "    .dataframe tbody tr th {\n",
       "        vertical-align: top;\n",
       "    }\n",
       "\n",
       "    .dataframe thead th {\n",
       "        text-align: right;\n",
       "    }\n",
       "</style>\n",
       "<table border=\"1\" class=\"dataframe\">\n",
       "  <thead>\n",
       "    <tr style=\"text-align: right;\">\n",
       "      <th></th>\n",
       "      <th>Year</th>\n",
       "      <th>Month</th>\n",
       "      <th>Num_Days</th>\n",
       "      <th>Avg_Deaths</th>\n",
       "    </tr>\n",
       "  </thead>\n",
       "  <tbody>\n",
       "    <tr>\n",
       "      <th>0</th>\n",
       "      <td>2020</td>\n",
       "      <td>1</td>\n",
       "      <td>31</td>\n",
       "      <td>0</td>\n",
       "    </tr>\n",
       "    <tr>\n",
       "      <th>1</th>\n",
       "      <td>2020</td>\n",
       "      <td>2</td>\n",
       "      <td>29</td>\n",
       "      <td>0</td>\n",
       "    </tr>\n",
       "    <tr>\n",
       "      <th>2</th>\n",
       "      <td>2020</td>\n",
       "      <td>3</td>\n",
       "      <td>31</td>\n",
       "      <td>77</td>\n",
       "    </tr>\n",
       "    <tr>\n",
       "      <th>3</th>\n",
       "      <td>2020</td>\n",
       "      <td>4</td>\n",
       "      <td>30</td>\n",
       "      <td>1844</td>\n",
       "    </tr>\n",
       "    <tr>\n",
       "      <th>4</th>\n",
       "      <td>2020</td>\n",
       "      <td>5</td>\n",
       "      <td>31</td>\n",
       "      <td>1448</td>\n",
       "    </tr>\n",
       "    <tr>\n",
       "      <th>5</th>\n",
       "      <td>2020</td>\n",
       "      <td>6</td>\n",
       "      <td>30</td>\n",
       "      <td>785</td>\n",
       "    </tr>\n",
       "    <tr>\n",
       "      <th>6</th>\n",
       "      <td>2020</td>\n",
       "      <td>7</td>\n",
       "      <td>31</td>\n",
       "      <td>769</td>\n",
       "    </tr>\n",
       "    <tr>\n",
       "      <th>7</th>\n",
       "      <td>2020</td>\n",
       "      <td>8</td>\n",
       "      <td>31</td>\n",
       "      <td>1020</td>\n",
       "    </tr>\n",
       "    <tr>\n",
       "      <th>8</th>\n",
       "      <td>2020</td>\n",
       "      <td>9</td>\n",
       "      <td>30</td>\n",
       "      <td>739</td>\n",
       "    </tr>\n",
       "    <tr>\n",
       "      <th>9</th>\n",
       "      <td>2020</td>\n",
       "      <td>10</td>\n",
       "      <td>31</td>\n",
       "      <td>751</td>\n",
       "    </tr>\n",
       "    <tr>\n",
       "      <th>10</th>\n",
       "      <td>2020</td>\n",
       "      <td>11</td>\n",
       "      <td>30</td>\n",
       "      <td>1225</td>\n",
       "    </tr>\n",
       "    <tr>\n",
       "      <th>11</th>\n",
       "      <td>2020</td>\n",
       "      <td>12</td>\n",
       "      <td>15</td>\n",
       "      <td>2247</td>\n",
       "    </tr>\n",
       "  </tbody>\n",
       "</table>\n",
       "</div>"
      ],
      "text/plain": [
       "    Year  Month  Num_Days  Avg_Deaths\n",
       "0   2020      1        31           0\n",
       "1   2020      2        29           0\n",
       "2   2020      3        31          77\n",
       "3   2020      4        30        1844\n",
       "4   2020      5        31        1448\n",
       "5   2020      6        30         785\n",
       "6   2020      7        31         769\n",
       "7   2020      8        31        1020\n",
       "8   2020      9        30         739\n",
       "9   2020     10        31         751\n",
       "10  2020     11        30        1225\n",
       "11  2020     12        15        2247"
      ]
     },
     "execution_count": 21,
     "metadata": {},
     "output_type": "execute_result"
    }
   ],
   "source": [
    "deaths"
   ]
  },
  {
   "cell_type": "code",
   "execution_count": 22,
   "id": "41537b28",
   "metadata": {},
   "outputs": [],
   "source": [
    "deaths[\"Monthly_Deaths\"] = deaths.Num_Days.mul(deaths.Avg_Deaths)"
   ]
  },
  {
   "cell_type": "code",
   "execution_count": 23,
   "id": "fff7e5bd",
   "metadata": {},
   "outputs": [
    {
     "data": {
      "text/html": [
       "<div>\n",
       "<style scoped>\n",
       "    .dataframe tbody tr th:only-of-type {\n",
       "        vertical-align: middle;\n",
       "    }\n",
       "\n",
       "    .dataframe tbody tr th {\n",
       "        vertical-align: top;\n",
       "    }\n",
       "\n",
       "    .dataframe thead th {\n",
       "        text-align: right;\n",
       "    }\n",
       "</style>\n",
       "<table border=\"1\" class=\"dataframe\">\n",
       "  <thead>\n",
       "    <tr style=\"text-align: right;\">\n",
       "      <th></th>\n",
       "      <th>Year</th>\n",
       "      <th>Month</th>\n",
       "      <th>Num_Days</th>\n",
       "      <th>Avg_Deaths</th>\n",
       "      <th>Monthly_Deaths</th>\n",
       "    </tr>\n",
       "  </thead>\n",
       "  <tbody>\n",
       "    <tr>\n",
       "      <th>0</th>\n",
       "      <td>2020</td>\n",
       "      <td>1</td>\n",
       "      <td>31</td>\n",
       "      <td>0</td>\n",
       "      <td>0</td>\n",
       "    </tr>\n",
       "    <tr>\n",
       "      <th>1</th>\n",
       "      <td>2020</td>\n",
       "      <td>2</td>\n",
       "      <td>29</td>\n",
       "      <td>0</td>\n",
       "      <td>0</td>\n",
       "    </tr>\n",
       "    <tr>\n",
       "      <th>2</th>\n",
       "      <td>2020</td>\n",
       "      <td>3</td>\n",
       "      <td>31</td>\n",
       "      <td>77</td>\n",
       "      <td>2387</td>\n",
       "    </tr>\n",
       "    <tr>\n",
       "      <th>3</th>\n",
       "      <td>2020</td>\n",
       "      <td>4</td>\n",
       "      <td>30</td>\n",
       "      <td>1844</td>\n",
       "      <td>55320</td>\n",
       "    </tr>\n",
       "    <tr>\n",
       "      <th>4</th>\n",
       "      <td>2020</td>\n",
       "      <td>5</td>\n",
       "      <td>31</td>\n",
       "      <td>1448</td>\n",
       "      <td>44888</td>\n",
       "    </tr>\n",
       "    <tr>\n",
       "      <th>5</th>\n",
       "      <td>2020</td>\n",
       "      <td>6</td>\n",
       "      <td>30</td>\n",
       "      <td>785</td>\n",
       "      <td>23550</td>\n",
       "    </tr>\n",
       "    <tr>\n",
       "      <th>6</th>\n",
       "      <td>2020</td>\n",
       "      <td>7</td>\n",
       "      <td>31</td>\n",
       "      <td>769</td>\n",
       "      <td>23839</td>\n",
       "    </tr>\n",
       "    <tr>\n",
       "      <th>7</th>\n",
       "      <td>2020</td>\n",
       "      <td>8</td>\n",
       "      <td>31</td>\n",
       "      <td>1020</td>\n",
       "      <td>31620</td>\n",
       "    </tr>\n",
       "    <tr>\n",
       "      <th>8</th>\n",
       "      <td>2020</td>\n",
       "      <td>9</td>\n",
       "      <td>30</td>\n",
       "      <td>739</td>\n",
       "      <td>22170</td>\n",
       "    </tr>\n",
       "    <tr>\n",
       "      <th>9</th>\n",
       "      <td>2020</td>\n",
       "      <td>10</td>\n",
       "      <td>31</td>\n",
       "      <td>751</td>\n",
       "      <td>23281</td>\n",
       "    </tr>\n",
       "    <tr>\n",
       "      <th>10</th>\n",
       "      <td>2020</td>\n",
       "      <td>11</td>\n",
       "      <td>30</td>\n",
       "      <td>1225</td>\n",
       "      <td>36750</td>\n",
       "    </tr>\n",
       "    <tr>\n",
       "      <th>11</th>\n",
       "      <td>2020</td>\n",
       "      <td>12</td>\n",
       "      <td>15</td>\n",
       "      <td>2247</td>\n",
       "      <td>33705</td>\n",
       "    </tr>\n",
       "  </tbody>\n",
       "</table>\n",
       "</div>"
      ],
      "text/plain": [
       "    Year  Month  Num_Days  Avg_Deaths  Monthly_Deaths\n",
       "0   2020      1        31           0               0\n",
       "1   2020      2        29           0               0\n",
       "2   2020      3        31          77            2387\n",
       "3   2020      4        30        1844           55320\n",
       "4   2020      5        31        1448           44888\n",
       "5   2020      6        30         785           23550\n",
       "6   2020      7        31         769           23839\n",
       "7   2020      8        31        1020           31620\n",
       "8   2020      9        30         739           22170\n",
       "9   2020     10        31         751           23281\n",
       "10  2020     11        30        1225           36750\n",
       "11  2020     12        15        2247           33705"
      ]
     },
     "execution_count": 23,
     "metadata": {},
     "output_type": "execute_result"
    }
   ],
   "source": [
    "deaths"
   ]
  },
  {
   "cell_type": "code",
   "execution_count": 24,
   "id": "8d4bb034",
   "metadata": {},
   "outputs": [],
   "source": [
    "deaths[\"Cum_Deaths\"] = deaths.Monthly_Deaths.cumsum()"
   ]
  },
  {
   "cell_type": "code",
   "execution_count": 25,
   "id": "9c33e6d9",
   "metadata": {},
   "outputs": [
    {
     "data": {
      "text/html": [
       "<div>\n",
       "<style scoped>\n",
       "    .dataframe tbody tr th:only-of-type {\n",
       "        vertical-align: middle;\n",
       "    }\n",
       "\n",
       "    .dataframe tbody tr th {\n",
       "        vertical-align: top;\n",
       "    }\n",
       "\n",
       "    .dataframe thead th {\n",
       "        text-align: right;\n",
       "    }\n",
       "</style>\n",
       "<table border=\"1\" class=\"dataframe\">\n",
       "  <thead>\n",
       "    <tr style=\"text-align: right;\">\n",
       "      <th></th>\n",
       "      <th>Year</th>\n",
       "      <th>Month</th>\n",
       "      <th>Num_Days</th>\n",
       "      <th>Avg_Deaths</th>\n",
       "      <th>Monthly_Deaths</th>\n",
       "      <th>Cum_Deaths</th>\n",
       "    </tr>\n",
       "  </thead>\n",
       "  <tbody>\n",
       "    <tr>\n",
       "      <th>0</th>\n",
       "      <td>2020</td>\n",
       "      <td>1</td>\n",
       "      <td>31</td>\n",
       "      <td>0</td>\n",
       "      <td>0</td>\n",
       "      <td>0</td>\n",
       "    </tr>\n",
       "    <tr>\n",
       "      <th>1</th>\n",
       "      <td>2020</td>\n",
       "      <td>2</td>\n",
       "      <td>29</td>\n",
       "      <td>0</td>\n",
       "      <td>0</td>\n",
       "      <td>0</td>\n",
       "    </tr>\n",
       "    <tr>\n",
       "      <th>2</th>\n",
       "      <td>2020</td>\n",
       "      <td>3</td>\n",
       "      <td>31</td>\n",
       "      <td>77</td>\n",
       "      <td>2387</td>\n",
       "      <td>2387</td>\n",
       "    </tr>\n",
       "    <tr>\n",
       "      <th>3</th>\n",
       "      <td>2020</td>\n",
       "      <td>4</td>\n",
       "      <td>30</td>\n",
       "      <td>1844</td>\n",
       "      <td>55320</td>\n",
       "      <td>57707</td>\n",
       "    </tr>\n",
       "    <tr>\n",
       "      <th>4</th>\n",
       "      <td>2020</td>\n",
       "      <td>5</td>\n",
       "      <td>31</td>\n",
       "      <td>1448</td>\n",
       "      <td>44888</td>\n",
       "      <td>102595</td>\n",
       "    </tr>\n",
       "    <tr>\n",
       "      <th>5</th>\n",
       "      <td>2020</td>\n",
       "      <td>6</td>\n",
       "      <td>30</td>\n",
       "      <td>785</td>\n",
       "      <td>23550</td>\n",
       "      <td>126145</td>\n",
       "    </tr>\n",
       "    <tr>\n",
       "      <th>6</th>\n",
       "      <td>2020</td>\n",
       "      <td>7</td>\n",
       "      <td>31</td>\n",
       "      <td>769</td>\n",
       "      <td>23839</td>\n",
       "      <td>149984</td>\n",
       "    </tr>\n",
       "    <tr>\n",
       "      <th>7</th>\n",
       "      <td>2020</td>\n",
       "      <td>8</td>\n",
       "      <td>31</td>\n",
       "      <td>1020</td>\n",
       "      <td>31620</td>\n",
       "      <td>181604</td>\n",
       "    </tr>\n",
       "    <tr>\n",
       "      <th>8</th>\n",
       "      <td>2020</td>\n",
       "      <td>9</td>\n",
       "      <td>30</td>\n",
       "      <td>739</td>\n",
       "      <td>22170</td>\n",
       "      <td>203774</td>\n",
       "    </tr>\n",
       "    <tr>\n",
       "      <th>9</th>\n",
       "      <td>2020</td>\n",
       "      <td>10</td>\n",
       "      <td>31</td>\n",
       "      <td>751</td>\n",
       "      <td>23281</td>\n",
       "      <td>227055</td>\n",
       "    </tr>\n",
       "    <tr>\n",
       "      <th>10</th>\n",
       "      <td>2020</td>\n",
       "      <td>11</td>\n",
       "      <td>30</td>\n",
       "      <td>1225</td>\n",
       "      <td>36750</td>\n",
       "      <td>263805</td>\n",
       "    </tr>\n",
       "    <tr>\n",
       "      <th>11</th>\n",
       "      <td>2020</td>\n",
       "      <td>12</td>\n",
       "      <td>15</td>\n",
       "      <td>2247</td>\n",
       "      <td>33705</td>\n",
       "      <td>297510</td>\n",
       "    </tr>\n",
       "  </tbody>\n",
       "</table>\n",
       "</div>"
      ],
      "text/plain": [
       "    Year  Month  Num_Days  Avg_Deaths  Monthly_Deaths  Cum_Deaths\n",
       "0   2020      1        31           0               0           0\n",
       "1   2020      2        29           0               0           0\n",
       "2   2020      3        31          77            2387        2387\n",
       "3   2020      4        30        1844           55320       57707\n",
       "4   2020      5        31        1448           44888      102595\n",
       "5   2020      6        30         785           23550      126145\n",
       "6   2020      7        31         769           23839      149984\n",
       "7   2020      8        31        1020           31620      181604\n",
       "8   2020      9        30         739           22170      203774\n",
       "9   2020     10        31         751           23281      227055\n",
       "10  2020     11        30        1225           36750      263805\n",
       "11  2020     12        15        2247           33705      297510"
      ]
     },
     "execution_count": 25,
     "metadata": {},
     "output_type": "execute_result"
    }
   ],
   "source": [
    "deaths"
   ]
  },
  {
   "cell_type": "code",
   "execution_count": 26,
   "id": "060db34d",
   "metadata": {},
   "outputs": [],
   "source": [
    "# for x in ax.spines:\n",
    "#     print(x)"
   ]
  },
  {
   "cell_type": "code",
   "execution_count": 27,
   "id": "d60f20d5",
   "metadata": {},
   "outputs": [
    {
     "data": {
      "text/plain": [
       "[2387, 126145, 227055, 297510]"
      ]
     },
     "execution_count": 27,
     "metadata": {},
     "output_type": "execute_result"
    }
   ],
   "source": [
    "cum_cases = [deaths.loc[2, \"Cum_Deaths\"],deaths.loc[5, \"Cum_Deaths\"],\n",
    "             deaths.loc[9, \"Cum_Deaths\"], deaths.loc[11, \"Cum_Deaths\"] ]\n",
    "cum_cases"
   ]
  },
  {
   "cell_type": "code",
   "execution_count": 40,
   "id": "a22d5f4d",
   "metadata": {},
   "outputs": [
    {
     "data": {
      "text/plain": [
       "[0.01, 0.42, 0.76, 1.0]"
      ]
     },
     "execution_count": 40,
     "metadata": {},
     "output_type": "execute_result"
    }
   ],
   "source": [
    "propotion = [round(i/cum_cases[-1],2) for i in cum_cases]\n",
    "propotion"
   ]
  },
  {
   "cell_type": "code",
   "execution_count": 29,
   "id": "8fb352ec",
   "metadata": {},
   "outputs": [
    {
     "data": {
      "text/plain": [
       "[0.503, 0.626, 0.728, 0.8]"
      ]
     },
     "execution_count": 29,
     "metadata": {},
     "output_type": "execute_result"
    }
   ],
   "source": [
    "xmaxs = [0.5 + i*(0.8-0.5) for i in propotion]\n",
    "xmaxs"
   ]
  },
  {
   "cell_type": "code",
   "execution_count": 30,
   "id": "3ab9a57f",
   "metadata": {},
   "outputs": [
    {
     "data": {
      "image/png": "[encoded data removed]",
      "text/plain": [
       "<Figure size 400x200 with 1 Axes>"
      ]
     },
     "metadata": {},
     "output_type": "display_data"
    }
   ],
   "source": [
    "fig, ax = plt.subplots(nrows=1, ncols=1, figsize = (4,2))\n",
    "ax.plot(deaths[\"Month\"], deaths[\"Avg_Deaths\"], color= \"#91150d\")\n",
    "ax.axhline(y=2000, xmin=0.5, xmax=0.8, color = \"#91150d\", linewidth=6, alpha=0.1) \n",
    "# Complete line xmin = 0 =, xmax = 1 \n",
    "\n",
    "    \n",
    "plt.show()"
   ]
  },
  {
   "cell_type": "markdown",
   "id": "33021119",
   "metadata": {},
   "source": [
    "# Story Telling"
   ]
  },
  {
   "cell_type": "code",
   "execution_count": 41,
   "id": "96ae95bf",
   "metadata": {},
   "outputs": [
    {
     "data": {
      "image/png": "[encoded data removed]",
      "text/plain": [
       "<Figure size 600x1000 with 4 Axes>"
      ]
     },
     "metadata": {},
     "output_type": "display_data"
    }
   ],
   "source": [
    "fig, (ax1, ax2, ax3, ax4) = plt.subplots(nrows=4, ncols=1, figsize = (6,10))\n",
    "axes = [ax1, ax2, ax3, ax4]\n",
    "\n",
    "deaths_everyday = round(deaths[\"Avg_Deaths\"].mean())\n",
    "\n",
    "ax1.text(x=1, y=3500, s=f\"The Virus Kill {deaths_everyday:,} people everyday\", size=14, weight=\"bold\")\n",
    "ax1.text(x=2.4, y=3200, s=\"Average Number of Daily Deaths\", size=12)\n",
    "\n",
    "for ax, x_max, death in zip(axes, xmaxs, cum_cases):\n",
    "    ax.plot(deaths[\"Month\"], deaths[\"Avg_Deaths\"], color= \"#91150d\", alpha=0.35)\n",
    "    ax.set_xticklabels([])\n",
    "    ax.set_yticklabels([])\n",
    "    ax.tick_params(left = False, bottom = False)\n",
    "    ax.axhline(y=2000, xmin=0.5, xmax=0.8, color = \"#91150d\", linewidth=6, alpha=0.1) # Progress Bar\n",
    "#     Complete line size = xmin = 0, xmax = 1\n",
    "    ax.axhline(y=2000, xmin=0.5, xmax=x_max, color = \"#91150d\", linewidth=6) # Progress Bar\n",
    "    ax.text(x=5.7, y = 2200, s= f\"{death:,} Cummulative Cases\", weight=\"bold\")\n",
    "    \n",
    "#     ax.spines[\"left\"].set_visible(False)\n",
    "    for spine in ax.spines:\n",
    "        ax.spines[spine].set_visible(False)\n",
    "\n",
    "ax1.text(x=0.5, y=-80, s=\"0\", alpha=0.35)\n",
    "ax1.text(x=3.40, y=1880, s=\"1,844\", alpha=0.5)\n",
    "ax1.text(x=7.5, y=1100, s=\"1,020\", alpha=0.5)\n",
    "ax1.text(x=11.44, y=2300, s=\"2,247\", alpha=0.5)\n",
    "\n",
    "ax1.plot(deaths[\"Month\"][:3], deaths[\"Avg_Deaths\"][:3], color = \"#91150d\", linewidth=2.5)\n",
    "ax1.text(x=1.25, y=-230, s=\"Jan - Mar\", rotation=3)\n",
    "\n",
    "ax2.plot(deaths[\"Month\"][2:6], deaths[\"Avg_Deaths\"][2:6], color = \"#91150d\", linewidth=2.5)\n",
    "ax2.text(x=3.75, y=900, s=\"Mar - Jun\")\n",
    "\n",
    "ax3.plot(deaths[\"Month\"][5:10], deaths[\"Avg_Deaths\"][5:10], color = \"#91150d\", linewidth=2.5)\n",
    "ax3.text(x=7.3, y=1150, s=\"Jun - Oct\")\n",
    "\n",
    "ax4.plot(deaths[\"Month\"][9:], deaths[\"Avg_Deaths\"][9:], color = \"#91150d\", linewidth=2.5)\n",
    "ax4.text(x=10.2, y=600, s=\"Oct - Dec\", rotation=45)\n",
    "    \n",
    "\n",
    "plt.show()"
   ]
  },
  {
   "cell_type": "code",
   "execution_count": 44,
   "id": "fcde8f91",
   "metadata": {},
   "outputs": [
    {
     "data": {
      "text/html": [
       "<div>\n",
       "<style scoped>\n",
       "    .dataframe tbody tr th:only-of-type {\n",
       "        vertical-align: middle;\n",
       "    }\n",
       "\n",
       "    .dataframe tbody tr th {\n",
       "        vertical-align: top;\n",
       "    }\n",
       "\n",
       "    .dataframe thead th {\n",
       "        text-align: right;\n",
       "    }\n",
       "</style>\n",
       "<table border=\"1\" class=\"dataframe\">\n",
       "  <thead>\n",
       "    <tr style=\"text-align: right;\">\n",
       "      <th></th>\n",
       "      <th>ID</th>\n",
       "      <th>Team</th>\n",
       "      <th>innings</th>\n",
       "      <th>overs</th>\n",
       "      <th>ballnumber</th>\n",
       "      <th>batter</th>\n",
       "      <th>bowler</th>\n",
       "      <th>non-striker</th>\n",
       "      <th>extra_type</th>\n",
       "      <th>batsman_run</th>\n",
       "      <th>extras_run</th>\n",
       "      <th>total_run</th>\n",
       "      <th>non_boundary</th>\n",
       "      <th>isWicketDelivery</th>\n",
       "      <th>player_out</th>\n",
       "      <th>kind</th>\n",
       "      <th>fielders_involved</th>\n",
       "      <th>BattingTeam</th>\n",
       "      <th>BowlingTeam</th>\n",
       "    </tr>\n",
       "  </thead>\n",
       "  <tbody>\n",
       "    <tr>\n",
       "      <th>0</th>\n",
       "      <td>1312200</td>\n",
       "      <td>Rajasthan RoyalsGujarat Titans</td>\n",
       "      <td>1</td>\n",
       "      <td>0</td>\n",
       "      <td>1</td>\n",
       "      <td>YBK Jaiswal</td>\n",
       "      <td>Mohammed Shami</td>\n",
       "      <td>JC Buttler</td>\n",
       "      <td>NaN</td>\n",
       "      <td>0</td>\n",
       "      <td>0</td>\n",
       "      <td>0</td>\n",
       "      <td>0</td>\n",
       "      <td>0</td>\n",
       "      <td>NaN</td>\n",
       "      <td>NaN</td>\n",
       "      <td>NaN</td>\n",
       "      <td>Rajasthan Royals</td>\n",
       "      <td>Gujarat Titans</td>\n",
       "    </tr>\n",
       "    <tr>\n",
       "      <th>1</th>\n",
       "      <td>1312200</td>\n",
       "      <td>Rajasthan RoyalsGujarat Titans</td>\n",
       "      <td>1</td>\n",
       "      <td>0</td>\n",
       "      <td>2</td>\n",
       "      <td>YBK Jaiswal</td>\n",
       "      <td>Mohammed Shami</td>\n",
       "      <td>JC Buttler</td>\n",
       "      <td>legbyes</td>\n",
       "      <td>0</td>\n",
       "      <td>1</td>\n",
       "      <td>1</td>\n",
       "      <td>0</td>\n",
       "      <td>0</td>\n",
       "      <td>NaN</td>\n",
       "      <td>NaN</td>\n",
       "      <td>NaN</td>\n",
       "      <td>Rajasthan Royals</td>\n",
       "      <td>Gujarat Titans</td>\n",
       "    </tr>\n",
       "  </tbody>\n",
       "</table>\n",
       "</div>"
      ],
      "text/plain": [
       "        ID                            Team  innings  overs  ballnumber  \\\n",
       "0  1312200  Rajasthan RoyalsGujarat Titans        1      0           1   \n",
       "1  1312200  Rajasthan RoyalsGujarat Titans        1      0           2   \n",
       "\n",
       "        batter          bowler non-striker extra_type  batsman_run  \\\n",
       "0  YBK Jaiswal  Mohammed Shami  JC Buttler        NaN            0   \n",
       "1  YBK Jaiswal  Mohammed Shami  JC Buttler    legbyes            0   \n",
       "\n",
       "   extras_run  total_run  non_boundary  isWicketDelivery player_out kind  \\\n",
       "0           0          0             0                 0        NaN  NaN   \n",
       "1           1          1             0                 0        NaN  NaN   \n",
       "\n",
       "  fielders_involved       BattingTeam     BowlingTeam  \n",
       "0               NaN  Rajasthan Royals  Gujarat Titans  \n",
       "1               NaN  Rajasthan Royals  Gujarat Titans  "
      ]
     },
     "execution_count": 44,
     "metadata": {},
     "output_type": "execute_result"
    }
   ],
   "source": [
    "ipl = pd.read_csv(r\"C:\\Users\\atif\\Dropbox\\Data Science CampusX\\Pandas Tutorial\\ipl_deliveries - ipl_deliveries.csv\")\n",
    "ipl.head(2)"
   ]
  },
  {
   "cell_type": "code",
   "execution_count": 125,
   "id": "7cd69c62",
   "metadata": {},
   "outputs": [
    {
     "data": {
      "text/plain": [
       "2    0\n",
       "Name: overs, dtype: int64"
      ]
     },
     "execution_count": 125,
     "metadata": {},
     "output_type": "execute_result"
    }
   ],
   "source": [
    "over_0 = ipl[((ipl[\"innings\"] == 1) & (ipl[\"overs\"] < 1) & (ipl[\"batsman_run\"] > 0)) & (ipl[\"ID\"] == 1312200)][\"overs\"]\n",
    "over_0"
   ]
  },
  {
   "cell_type": "code",
   "execution_count": null,
   "id": "d6c64982",
   "metadata": {},
   "outputs": [],
   "source": [
    "ipl[[\"overs\", \"total_run\"]].plot.hist()"
   ]
  },
  {
   "cell_type": "code",
   "execution_count": 128,
   "id": "10f59530",
   "metadata": {},
   "outputs": [
    {
     "data": {
      "text/plain": [
       "2    1\n",
       "Name: total_run, dtype: int64"
      ]
     },
     "execution_count": 128,
     "metadata": {},
     "output_type": "execute_result"
    }
   ],
   "source": [
    "# ipl[((ipl[\"innings\"] == 1) & (ipl[\"overs\"] < 1)) & (ipl[\"batsman_run\"] > 0)][\"total_run\"]\n",
    "run = ipl[((ipl[\"innings\"] == 1) & (ipl[\"overs\"] < 1) & (ipl[\"batsman_run\"] > 0)) & (ipl[\"ID\"] == 1312200)][\"total_run\"]\n",
    "run"
   ]
  },
  {
   "cell_type": "code",
   "execution_count": 132,
   "id": "85f51aaf",
   "metadata": {},
   "outputs": [
    {
     "data": {
      "text/plain": [
       "(array([], dtype=float64),\n",
       " array([1], dtype=int64),\n",
       " <BarContainer object of 0 artists>)"
      ]
     },
     "execution_count": 132,
     "metadata": {},
     "output_type": "execute_result"
    },
    {
     "data": {
      "image/png": "[encoded data removed]",
      "text/plain": [
       "<Figure size 640x480 with 1 Axes>"
      ]
     },
     "metadata": {},
     "output_type": "display_data"
    }
   ],
   "source": [
    "plt.hist(over_0, run)"
   ]
  },
  {
   "cell_type": "code",
   "execution_count": null,
   "id": "97a23191",
   "metadata": {},
   "outputs": [],
   "source": []
  }
 ],
 "metadata": {
  "kernelspec": {
   "display_name": "Python 3 (ipykernel)",
   "language": "python",
   "name": "python3"
  },
  "language_info": {
   "codemirror_mode": {
    "name": "ipython",
    "version": 3
   },
   "file_extension": ".py",
   "mimetype": "text/x-python",
   "name": "python",
   "nbconvert_exporter": "python",
   "pygments_lexer": "ipython3",
   "version": "3.9.13"
  }
 },
 "nbformat": 4,
 "nbformat_minor": 5
}
