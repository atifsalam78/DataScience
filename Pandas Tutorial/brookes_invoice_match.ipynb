{
 "cells": [
  {
   "cell_type": "markdown",
   "id": "ed66d426",
   "metadata": {},
   "source": [
    "# Brookes Invoice Match"
   ]
  },
  {
   "cell_type": "markdown",
   "id": "cda44255",
   "metadata": {},
   "source": [
    "### Material"
   ]
  },
  {
   "cell_type": "code",
   "execution_count": 2,
   "id": "7c200067",
   "metadata": {},
   "outputs": [],
   "source": [
    "import pandas as pd\n",
    "import numpy as np\n",
    "invoice = pd.read_csv(\"invoice.csv\", encoding=\"latin1\")\n",
    "invoice = invoice[[\"Concatenate (Fusion)\", \"Concatenate (EBS)\", \"S. No.\", \"Supplier Name\",\n",
    "                  \"Purchase Order No\", \"EBS No\", \"Fusion Receipt No\", \"Invoice Ref.\"]]\n",
    "receiving = pd.read_csv(\"monitoring.csv\",\n",
    "                        encoding=\"latin1\", parse_dates=[\"PO ( EBS ) Delivery Date\",\"MRR Date ( EBS )\",\n",
    "                                                        \"Sample Date\", \"MRR Release Date\",\n",
    "                                                        \"Invoice Date\", \"Invoice Record Date\"])\n",
    "receiving = receiving.drop(receiving.tail(2).index) #remove last 2 rows from data frame\n",
    "receiving[[\"PO No  ( EBS )\", \"MRR No. ( EBS )\", \"MRR No. ( Fusion )\", \"Invoice Number\"]] = receiving[[\"PO No  ( EBS )\", \"MRR No. ( EBS )\", \"MRR No. ( Fusion )\", \"Invoice Number\"]].fillna(\"0\")\n",
    "receiving[[\"PO No  ( EBS )\", \"MRR No. ( EBS )\", \"MRR No. ( Fusion )\"]] = receiving[[\"PO No  ( EBS )\", \"MRR No. ( EBS )\", \"MRR No. ( Fusion )\"]].astype(int)\n",
    "receiving[[\"PO No  ( EBS )\", \"MRR No. ( EBS )\", \"MRR No. ( Fusion )\"]] = receiving[[\"PO No  ( EBS )\", \"MRR No. ( EBS )\", \"MRR No. ( Fusion )\"]].astype(str)\n",
    "receiving[\"Concatenate (EBS)\"] = pd.concat([receiving['PO No  ( EBS )'].astype(str),\n",
    "                                      receiving['MRR No. ( EBS )']], axis=1).agg('-'.join, axis=1)\n",
    "receiving[\"Concatenate (Fusion)\"] = pd.concat([receiving['PO No  ( EBS )'].astype(str),\n",
    "                                      receiving['MRR No. ( Fusion )']], axis=1).agg('-'.join, axis=1)\n",
    "required_invoices = receiving[receiving[\"Invoice Number\"] == \"0\"]\n",
    "required_invoices = required_invoices[['Concatenate (Fusion)', 'Concatenate (EBS)', 'Supplier','PO No  ( EBS )',\n",
    "       'PO ( EBS ) Delivery Date', 'Quantity', 'Value', 'MRR No. ( EBS )',\n",
    "       'MRR Date ( EBS )', 'MRR No. ( Fusion )', 'Item Name', 'MRR Release Date',\n",
    "                       'Invoice Number', 'Invoice Date', 'Invoice Record Date']]\n",
    "ebs_df = required_invoices.merge(invoice, how=\"left\", on=\"Concatenate (EBS)\")\n",
    "ebs_df = ebs_df[[\"Concatenate (EBS)\", \"Supplier\", \"PO No  ( EBS )\", \"PO ( EBS ) Delivery Date\", \n",
    "                   \"MRR No. ( EBS )\", \"MRR Date ( EBS )\", \"MRR No. ( Fusion )\", \"MRR Release Date\",\n",
    "                   \"Invoice Number\", \"Invoice Ref.\"]]\n",
    "ebs_df[\"Invoice Ref.\"].fillna(\"Not Submitted\", inplace=True)\n",
    "ebs_df = ebs_df[(ebs_df[\"MRR Date ( EBS )\"].dt.year == 2023)]\n",
    "not_submitted_invoice = ebs_df[ebs_df[\"Invoice Ref.\"] == \"Not Submitted\"]\n",
    "submitted_invoice = ebs_df[ebs_df[\"Invoice Ref.\"] != \"Not Submitted\"]\n",
    "excel_file = \"Invoices_data_ebs.xlsx\"\n",
    "with pd.ExcelWriter(excel_file, engine=\"xlsxwriter\") as writer:\n",
    "    submitted_invoice.to_excel(writer, sheet_name=\"Submitted\", index=False)\n",
    "    not_submitted_invoice.to_excel(writer, sheet_name=\"Not Submitted\", index=False)\n",
    "not_submitted_invoice.to_csv(\"required_invoices_ebs.csv\", index=False)"
   ]
  },
  {
   "cell_type": "markdown",
   "id": "12699d30",
   "metadata": {},
   "source": [
    "### Services"
   ]
  },
  {
   "cell_type": "code",
   "execution_count": 4,
   "id": "c9042cb4",
   "metadata": {},
   "outputs": [],
   "source": [
    "import pandas as pd\n",
    "import numpy as np\n",
    "invoice = pd.read_csv(\"invoice.csv\", encoding=\"latin1\")\n",
    "invoice = invoice[[\"Concatenate (Fusion)\", \"Concatenate (EBS)\", \"S. No.\", \"Supplier Name\",\n",
    "                  \"Purchase Order No\", \"EBS No\", \"Fusion Receipt No\", \"Invoice Ref.\"]]\n",
    "receiving = pd.read_csv(\"monitoring.csv\",\n",
    "                        encoding=\"latin1\", parse_dates=[\"PO ( EBS ) Delivery Date\",\"MRR Date ( EBS )\",\n",
    "                                                        \"Sample Date\", \"MRR Release Date\",\n",
    "                                                        \"Invoice Date\", \"Invoice Record Date\"])\n",
    "receiving = receiving.drop(receiving.tail(2).index) #remove last 2 rows from data frame\n",
    "receiving[[\"PO No  ( EBS )\", \"MRR No. ( EBS )\", \"MRR No. ( Fusion )\", \"Invoice Number\"]] = receiving[[\"PO No  ( EBS )\", \"MRR No. ( EBS )\", \"MRR No. ( Fusion )\", \"Invoice Number\"]].fillna(\"0\")\n",
    "receiving[[\"PO No  ( EBS )\", \"MRR No. ( EBS )\", \"MRR No. ( Fusion )\"]] = receiving[[\"PO No  ( EBS )\", \"MRR No. ( EBS )\", \"MRR No. ( Fusion )\"]].astype(int)\n",
    "receiving[[\"PO No  ( EBS )\", \"MRR No. ( EBS )\", \"MRR No. ( Fusion )\"]] = receiving[[\"PO No  ( EBS )\", \"MRR No. ( EBS )\", \"MRR No. ( Fusion )\"]].astype(str)\n",
    "receiving[\"Concatenate (EBS)\"] = pd.concat([receiving['PO No  ( EBS )'].astype(str),\n",
    "                                      receiving['MRR No. ( EBS )']], axis=1).agg('-'.join, axis=1)\n",
    "receiving[\"Concatenate (Fusion)\"] = pd.concat([receiving['PO No  ( EBS )'].astype(str),\n",
    "                                      receiving['MRR No. ( Fusion )']], axis=1).agg('-'.join, axis=1)\n",
    "\n",
    "required_invoices = receiving[receiving[\"Invoice Number\"] == \"0\"]\n",
    "required_invoices = required_invoices[['Concatenate (Fusion)', 'Concatenate (EBS)', 'Supplier','PO No  ( EBS )',\n",
    "       'PO ( EBS ) Delivery Date', 'Quantity', 'Value', 'MRR No. ( EBS )',\n",
    "       'MRR Date ( EBS )', 'MRR No. ( Fusion )', 'Item Name', 'MRR Release Date',\n",
    "                       'Invoice Number', 'Invoice Date', 'Invoice Record Date']]\n",
    "fusion_df = required_invoices.merge(invoice, how=\"left\", on=\"Concatenate (Fusion)\")\n",
    "fusion_df = fusion_df[[\"Concatenate (Fusion)\", \"Supplier\", \"PO No  ( EBS )\", \"PO ( EBS ) Delivery Date\", \n",
    "                   \"MRR No. ( EBS )\", \"MRR Date ( EBS )\", \"MRR No. ( Fusion )\", \"MRR Release Date\",\n",
    "                   \"Invoice Number\", \"Invoice Ref.\"]]\n",
    "fusion_df[\"Invoice Ref.\"].fillna(\"Not Submitted\", inplace=True)\n",
    "# fusion_df = fusion_df[(fusion_df[\"MRR Date ( EBS )\"].dt.year == 2023)]\n",
    "not_submitted_invoice = fusion_df[fusion_df[\"Invoice Ref.\"] == \"Not Submitted\"]\n",
    "submitted_invoice = fusion_df[fusion_df[\"Invoice Ref.\"] != \"Not Submitted\"]\n",
    "excel_file = \"Invoices_data_fusion.xlsx\"\n",
    "with pd.ExcelWriter(excel_file, engine=\"xlsxwriter\") as writer:\n",
    "    submitted_invoice.to_excel(writer, sheet_name=\"Submitted\", index=False)\n",
    "    not_submitted_invoice.to_excel(writer, sheet_name=\"Not Submitted\", index=False)\n",
    "not_submitted_invoice.to_csv(\"required_invoices_fusion.csv\", index=False)"
   ]
  },
  {
   "cell_type": "code",
   "execution_count": 8,
   "id": "a8331b69",
   "metadata": {},
   "outputs": [],
   "source": [
    "# receiving[\"PO ( EBS ) Delivery Date\"].fillna(\"2020-06-01\", inplace=True)\n",
    "\n",
    "# receiving.loc[:,(\"PO ( EBS ) Delivery Date\",\"MRR Date ( EBS )\", \"Sample Date\", \"MRR Release Date\",\n",
    "#           \"Invoice Date\", \"Invoice Record Date\")] = receiving.loc[:,(\"PO ( EBS ) Delivery Date\",\"MRR Date ( EBS )\", \"Sample Date\", \"MRR Release Date\",\n",
    "#           \"Invoice Date\", \"Invoice Record Date\")].fillna(\"0000-00-00\")"
   ]
  },
  {
   "cell_type": "code",
   "execution_count": 12,
   "id": "54782d8a",
   "metadata": {},
   "outputs": [],
   "source": [
    "# receiving[\"PO ( EBS ) Delivery Date\"] = pd.to_datetime(receiving[\"PO ( EBS ) Delivery Date\"])\n",
    "# receiving[\"MRR Date ( EBS )\"] = pd.to_datetime(receiving[\"MRR Date ( EBS )\"])\n",
    "# receiving[\"Sample Date\"] = pd.to_datetime(receiving[\"Sample Date\"])\n",
    "# receiving[\"MRR Release Date\"] = pd.to_datetime(receiving[\"MRR Release Date\"])\n",
    "# receiving[\"Invoice Date\"] = pd.to_datetime(receiving[\"Invoice Date\"])\n",
    "# receiving[\"Invoice Record Date\"] = pd.to_datetime(receiving[\"Invoice Record Date\"])\n"
   ]
  },
  {
   "cell_type": "code",
   "execution_count": 1,
   "id": "0aa25ce9",
   "metadata": {},
   "outputs": [
    {
     "name": "stdout",
     "output_type": "stream",
     "text": [
      "Collecting cowsay\n",
      "  Downloading cowsay-6.1-py3-none-any.whl (25 kB)\n",
      "Installing collected packages: cowsay\n",
      "Successfully installed cowsay-6.1\n"
     ]
    }
   ],
   "source": [
    "!pip install cowsay"
   ]
  },
  {
   "cell_type": "code",
   "execution_count": null,
   "id": "ac3acf07",
   "metadata": {},
   "outputs": [],
   "source": []
  },
  {
   "cell_type": "code",
   "execution_count": null,
   "id": "fb039678",
   "metadata": {},
   "outputs": [],
   "source": []
  },
  {
   "cell_type": "code",
   "execution_count": null,
   "id": "c83aa5f7",
   "metadata": {},
   "outputs": [],
   "source": []
  },
  {
   "cell_type": "code",
   "execution_count": 25,
   "id": "5263867b",
   "metadata": {},
   "outputs": [
    {
     "name": "stdout",
     "output_type": "stream",
     "text": [
      "  ___________________________________________\n",
      " /                                           \\\n",
      "| Wishing You All A Very Happy New Year 2024! |\n",
      "| Just For Fun In A Pythonic Way              |\n",
      "| From Atif Salam.....                        |\n",
      " \\                                           /\n",
      "  ===========================================\n",
      "                                            \\\n",
      "                                             \\\n",
      "                                              \\\n",
      "                                               |\\_/|,,_____,~~`\n",
      "                                               (.\".)~~     )`~}}\n",
      "                                                \\o/\\ /---~\\\\ ~}}\n",
      "                                                  _//    _// ~}\n"
     ]
    }
   ],
   "source": [
    "import cowsay\n",
    "cowsay.fox('''Wishing You All A Very Happy New Year 2024!\n",
    "Just For Fun In A Pythonic Way\n",
    "From Atif Salam.....''')"
   ]
  },
  {
   "cell_type": "code",
   "execution_count": null,
   "id": "d1fbaa98",
   "metadata": {},
   "outputs": [],
   "source": []
  },
  {
   "cell_type": "code",
   "execution_count": null,
   "id": "4d294fa2",
   "metadata": {},
   "outputs": [],
   "source": []
  },
  {
   "cell_type": "code",
   "execution_count": null,
   "id": "f134a9af",
   "metadata": {},
   "outputs": [],
   "source": []
  },
  {
   "cell_type": "code",
   "execution_count": 20,
   "id": "a3900fc5",
   "metadata": {},
   "outputs": [],
   "source": []
  },
  {
   "cell_type": "code",
   "execution_count": null,
   "id": "9f63ac2e",
   "metadata": {},
   "outputs": [],
   "source": []
  },
  {
   "cell_type": "code",
   "execution_count": null,
   "id": "cdc4d8b5",
   "metadata": {},
   "outputs": [],
   "source": []
  }
 ],
 "metadata": {
  "kernelspec": {
   "display_name": "Python 3 (ipykernel)",
   "language": "python",
   "name": "python3"
  },
  "language_info": {
   "codemirror_mode": {
    "name": "ipython",
    "version": 3
   },
   "file_extension": ".py",
   "mimetype": "text/x-python",
   "name": "python",
   "nbconvert_exporter": "python",
   "pygments_lexer": "ipython3",
   "version": "3.9.13"
  }
 },
 "nbformat": 4,
 "nbformat_minor": 5
}
